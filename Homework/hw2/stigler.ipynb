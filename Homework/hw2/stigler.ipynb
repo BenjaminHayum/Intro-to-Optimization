{
 "cells": [
  {
   "cell_type": "markdown",
   "metadata": {},
   "source": [
    "# Q1) Construction with Constraints"
   ]
  },
  {
   "cell_type": "code",
   "execution_count": 1,
   "metadata": {},
   "outputs": [],
   "source": [
    "# Decision Variables \n",
    "# -- In each month, how many workers do you assign to each project\n",
    "# Variables of how many people working for each 3 project in every of 4 months -- 12 all together\n",
    "\n",
    "# Costraints \n",
    "# -- Only 6 workers can work on a single job\n",
    "# -- 8/10/12 worker hours required for projects 1/2/3\n",
    "# -- 3/4/2 months max complete time for projects 1/2/3\n",
    "\n",
    "# Objective \n",
    "# -- Minimize time spent finishing projects"
   ]
  },
  {
   "cell_type": "code",
   "execution_count": 2,
   "metadata": {},
   "outputs": [],
   "source": [
    "using JuMP, HiGHS"
   ]
  },
  {
   "cell_type": "code",
   "execution_count": 3,
   "metadata": {},
   "outputs": [
    {
     "name": "stdout",
     "output_type": "stream",
     "text": [
      "Running HiGHS 1.4.2 [date: 1970-01-01, git hash: f797c1ab6]\n",
      "Copyright (c) 2022 ERGO-Code under MIT licence terms\n",
      "Presolving model\n",
      "Problem status detected on presolve: Infeasible\n",
      "Model   status      : Infeasible\n",
      "Objective value     :  0.0000000000e+00\n",
      "HiGHS run time      :          0.00\n",
      "ERROR:   No invertible representation for getDualRay\n",
      "\n",
      "INFEASIBLE\n"
     ]
    }
   ],
   "source": [
    "model = Model(HiGHS.Optimizer)\n",
    "\n",
    "# x is workers at each project per month\n",
    "# and 6 workers on single job at a time\n",
    "@variable(model, 0 <= x[i = 1:3, j = 1:4] <= 6)\n",
    "\n",
    "for j in 1:4\n",
    "    # 8 total workers\n",
    "    @constraint(model, sum( x[:, j]) == 8) \n",
    "end\n",
    "\n",
    "# Worker hours required to complete each project 1:3\n",
    "@constraint(model, sum(x[1, :]) >= 8)\n",
    "@constraint(model, sum(x[2, :]) >= 10)\n",
    "@constraint(model, sum(x[3, :]) >= 12)\n",
    "\n",
    "# Maximum complete times in time frame\n",
    "@constraint(model, x[1, 4] == 0)\n",
    "@constraint(model, x[3, 3] == 0)\n",
    "@constraint(model, x[3, 4] == 0)\n",
    "\n",
    "# If you don't specify an objective, it'll just find a feasible point\n",
    "# If there's no point it'll print out a lot of junk\n",
    "# Check termination status to look for if it found something\n",
    "optimize!(model)\n",
    "\n",
    "println(\"\\n\", termination_status(model))"
   ]
  },
  {
   "cell_type": "markdown",
   "metadata": {},
   "source": [
    "The three projects cannot all be completed on time!"
   ]
  },
  {
   "cell_type": "markdown",
   "metadata": {},
   "source": [
    "# Q2) Stigler's Diet"
   ]
  },
  {
   "cell_type": "markdown",
   "metadata": {},
   "source": [
    "## Stigler Diet Problem: Starter Code"
   ]
  },
  {
   "cell_type": "code",
   "execution_count": 4,
   "metadata": {},
   "outputs": [
    {
     "name": "stderr",
     "output_type": "stream",
     "text": [
      "\u001b[32m\u001b[1m    Updating\u001b[22m\u001b[39m registry at `~/.julia/registries/General.toml`\n",
      "\u001b[32m\u001b[1m   Resolving\u001b[22m\u001b[39m package versions...\n",
      "\u001b[32m\u001b[1m  No Changes\u001b[22m\u001b[39m to `~/.julia/environments/v1.8/Project.toml`\n",
      "\u001b[32m\u001b[1m  No Changes\u001b[22m\u001b[39m to `~/.julia/environments/v1.8/Manifest.toml`\n",
      "\u001b[32m\u001b[1m   Resolving\u001b[22m\u001b[39m package versions...\n",
      "\u001b[32m\u001b[1m  No Changes\u001b[22m\u001b[39m to `~/.julia/environments/v1.8/Project.toml`\n",
      "\u001b[32m\u001b[1m  No Changes\u001b[22m\u001b[39m to `~/.julia/environments/v1.8/Manifest.toml`\n",
      "\u001b[32m\u001b[1m   Resolving\u001b[22m\u001b[39m package versions...\n",
      "\u001b[32m\u001b[1m  No Changes\u001b[22m\u001b[39m to `~/.julia/environments/v1.8/Project.toml`\n",
      "\u001b[32m\u001b[1m  No Changes\u001b[22m\u001b[39m to `~/.julia/environments/v1.8/Manifest.toml`\n"
     ]
    }
   ],
   "source": [
    "using Pkg\n",
    "Pkg.add(\"CSV\")\n",
    "Pkg.add(\"DataFrames\")\n",
    "Pkg.add(\"NamedArrays\")\n"
   ]
  },
  {
   "cell_type": "code",
   "execution_count": 5,
   "metadata": {
    "scrolled": false
   },
   "outputs": [
    {
     "name": "stdout",
     "output_type": "stream",
     "text": [
      "Foods:\n",
      "\n",
      "Wheat Flour (Enriched)\n",
      "Macaroni\n",
      "Wheat Cereal (Enriched)\n",
      "Corn Flakes\n",
      "Corn Meal\n",
      "Hominy Grits\n",
      "Rice\n",
      "Rolled Oats\n",
      "White Bread (Enriched)\n",
      "Whole Wheat Bread\n",
      "Rye Bread\n",
      "Pound Cake\n",
      "Soda Crackers\n",
      "Milk\n",
      "Evaporated Milk (can)\n",
      "Butter\n",
      "Oleomargarine\n",
      "Eggs\n",
      "Cheese (Cheddar)\n",
      "Cream\n",
      "Peanut Butter\n",
      "Mayonnaise\n",
      "Crisco\n",
      "Lard\n",
      "Sirloin Steak\n",
      "Round Steak\n",
      "Rib Roast\n",
      "Chuck Roast\n",
      "Plate\n",
      "Liver (Beef)\n",
      "Leg of Lamb\n",
      "Lamb Chops (Rib)\n",
      "Pork Chops\n",
      "Pork Loin Roast\n",
      "Bacon\n",
      "Ham, smoked\n",
      "Salt Pork\n",
      "Roasting Chicken\n",
      "Veal Cutlets\n",
      "Salmon, Pink (can)\n",
      "Apples\n",
      "Bananas\n",
      "Lemons\n",
      "Oranges\n",
      "Green Beans\n",
      "Cabbage\n",
      "Carrots\n",
      "Celery\n",
      "Lettuce\n",
      "Onions\n",
      "Potatoes\n",
      "Spinach\n",
      "Sweet Potatoes\n",
      "Peaches (can)\n",
      "Pears (can)\n",
      "Pineapple (can)\n",
      "Asparagus (can)\n",
      "Green Beans (can)\n",
      "Pork and Beans (can)\n",
      "Corn (can)\n",
      "Peas (can)\n",
      "Tomatoes (can)\n",
      "Tomato Soup (can)\n",
      "Peaches, Dried\n",
      "Prunes, Dried\n",
      "Raisins, Dried\n",
      "Peas, Dried\n",
      "Lima Beans, Dried\n",
      "Navy Beans, Dried\n",
      "Coffee\n",
      "Tea\n",
      "Cocoa\n",
      "Chocolate\n",
      "Sugar\n",
      "Corn Syrup\n",
      "Molasses\n",
      "Strawberry Preserves\n",
      "\n",
      "\n",
      "Nutrient Lower Bounds:\n",
      "\n",
      "Calories (1000) at least: 3.0\n",
      "Protein (g) at least: 70\n",
      "Calcium (g) at least: 0.8\n",
      "Iron (mg) at least: 12\n",
      "Vitamin A (1000 IU) at least: 5.0\n",
      "Thiamine (mg) at least: 1.8\n",
      "Riboflavin (mg) at least: 2.7\n",
      "Niacin (mg) at least: 18\n",
      "Ascorbic Acid (mg) at least: 75\n"
     ]
    }
   ],
   "source": [
    "# STARTER CODE FOR STIGLER'S DIET PROBLEM\n",
    "\n",
    "using NamedArrays, CSV, DataFrames\n",
    "\n",
    "# import Stigler's data set\n",
    "raw = CSV.read(\"stigler.csv\", DataFrame);\n",
    "(m,n) = size(raw)\n",
    "\n",
    "n_nutrients = 2:n      # columns containing nutrients\n",
    "n_foods = 3:m          # rows containing food names\n",
    "\n",
    "# list of food\n",
    "foods = raw[2:end,1]\n",
    "# list of nutrients\n",
    "nutrients = [string(names(raw)[i]) for i=2:length(names(raw))]\n",
    "\n",
    "# minimum required amount of each nutrient\n",
    "lower = Dict( zip(nutrients,raw[1,n_nutrients]) )\n",
    "\n",
    "# data[f,i] is the amount of nutrient i contained in food f \n",
    "dataraw = Matrix(values(raw[2:end,2:end]))\n",
    "data = NamedArray(dataraw,(foods,nutrients),(\"foods\",\"nutrients\"))\n",
    "\n",
    "        \n",
    "println(\"Foods:\\n\")\n",
    "for i in foods\n",
    "    println(i)\n",
    "end\n",
    "\n",
    "\n",
    "println(\"\\n\\nNutrient Lower Bounds:\\n\")\n",
    "for j in nutrients\n",
    "    println(j,\" at least: \",lower[j])\n",
    "end\n"
   ]
  },
  {
   "cell_type": "markdown",
   "metadata": {},
   "source": [
    "### Part A)"
   ]
  },
  {
   "cell_type": "code",
   "execution_count": 6,
   "metadata": {},
   "outputs": [],
   "source": [
    "# Minimize cost while allowing the daily recommended amount of several nutrients listed above\n",
    "\n",
    "# The decision variables are how many dollars are spent on each food type \n",
    "# -- i.e. how many multiples of the nutrients listed in each row you will receive\n",
    "# -- There will be one decision variable per food type\n",
    "# --> The dollars spent on each food type have to be >= 0 since you can't spend negative money\n",
    "\n",
    "# The constraints are the total number of nutrients needing to be above what is shown there\n",
    "# -- Calories >= 3 (thousand)\n",
    "# -- Protein >= 70 (grams)\n",
    "# -- Calcium >= 0.8 (grams)\n",
    "# -- Iron >= 12 (mg) \n",
    "# -- Vitamin A >= 5.0 (1000 IU)\n",
    "# -- Thiamine >= 1.8(mg)\n",
    "# -- Riboflavin >= 2.7 (mg)\n",
    "# -- Niacin >= 18 (mg)\n",
    "# -- Ascorbic Acid >= 75 (mg)\n",
    "# --> We find the total number of nutrients we end up with by for each nutrient, summing across \n",
    "#     the product of the amount of money spent on each food and the data table entry of nutrients per $1\n",
    "\n",
    "# The objective is to minimize the cost spent across all foods"
   ]
  },
  {
   "cell_type": "markdown",
   "metadata": {},
   "source": [
    "### Part B)"
   ]
  },
  {
   "cell_type": "code",
   "execution_count": 7,
   "metadata": {
    "scrolled": false
   },
   "outputs": [
    {
     "name": "stdout",
     "output_type": "stream",
     "text": [
      "Running HiGHS 1.4.2 [date: 1970-01-01, git hash: f797c1ab6]\n",
      "Copyright (c) 2022 ERGO-Code under MIT licence terms\n",
      "Presolving model\n",
      "9 rows, 40 cols, 317 nonzeros\n",
      "9 rows, 27 cols, 213 nonzeros\n",
      "Presolve : Reductions: rows 9(-0); columns 27(-50); elements 213(-357)\n",
      "Solving the presolved LP\n",
      "Using EKK dual simplex solver - serial\n",
      "  Iteration        Objective     Infeasibilities num(sum)\n",
      "          0     0.0000000000e+00 Pr: 9(76.4375) 0s\n",
      "          5     1.0866227821e-01 Pr: 0(0) 0s\n",
      "Solving the original LP from the solution after postsolve\n",
      "Model   status      : Optimal\n",
      "Simplex   iterations: 5\n",
      "Objective value     :  1.0866227821e-01\n",
      "HiGHS run time      :          0.00\n",
      "\n",
      "We buy 0.02951906167648827 units of Wheat Flour (Enriched)\n",
      "We buy 0.001892557290705264 units of Liver (Beef)\n",
      "We buy 0.01121443524614487 units of Cabbage\n",
      "We buy 0.0050076604667252025 units of Spinach\n",
      "We buy 0.06102856352669324 units of Navy Beans, Dried\n",
      "\n",
      "Annual cost: 39.66173154546625\n"
     ]
    }
   ],
   "source": [
    "model = Model(HiGHS.Optimizer)\n",
    "\n",
    "# Amount spent on each food\n",
    "@variable(model, foodmoney[f in foods] >= 0)\n",
    "\n",
    "# Nutrients needed\n",
    "@constraint(model, nutneeds[n in nutrients], sum(foodmoney[f]*data[f,n] for f in foods) >= lower[n])\n",
    "\n",
    "# Minimize cost\n",
    "@objective(model, Min, sum(foodmoney[f] for f in foods))\n",
    "\n",
    "optimize!(model)\n",
    "\n",
    "# Print out results\n",
    "println()\n",
    "for f in foods\n",
    "    if value(foodmoney[f]) != 0.0\n",
    "        println(\"We buy \", value(foodmoney[f]), \" units of \", f)\n",
    "    end\n",
    "end\n",
    "\n",
    "println()\n",
    "println(\"Annual cost: \", 365*sum(value(foodmoney[f]) for f in foods) )"
   ]
  },
  {
   "cell_type": "code",
   "execution_count": 8,
   "metadata": {},
   "outputs": [],
   "source": [
    "# This diet is about 27 cents cheaper than Stigler's diet"
   ]
  },
  {
   "cell_type": "markdown",
   "metadata": {},
   "source": [
    "### Part C) Print lower bounds and then print actual we have"
   ]
  },
  {
   "cell_type": "code",
   "execution_count": 9,
   "metadata": {
    "scrolled": true
   },
   "outputs": [
    {
     "name": "stdout",
     "output_type": "stream",
     "text": [
      "The lower bound for Calories (1000) is: 3.0 and the optimal amount is: 3.0\n",
      "The lower bound for Protein (g) is: 70 and the optimal amount is: 147.41353494220905\n",
      "The lower bound for Calcium (g) is: 0.8 and the optimal amount is: 0.8\n",
      "The lower bound for Iron (mg) is: 12 and the optimal amount is: 60.466922101736586\n",
      "The lower bound for Vitamin A (1000 IU) is: 5.0 and the optimal amount is: 5.0\n",
      "The lower bound for Thiamine (mg) is: 1.8 and the optimal amount is: 4.120438804838622\n",
      "The lower bound for Riboflavin (mg) is: 2.7 and the optimal amount is: 2.7\n",
      "The lower bound for Niacin (mg) is: 18 and the optimal amount is: 27.31598070028832\n",
      "The lower bound for Ascorbic Acid (mg) is: 75 and the optimal amount is: 75.0\n"
     ]
    }
   ],
   "source": [
    "for n in nutrients\n",
    "    println( \"The lower bound for \", n, \" is: \", lower[n], \" and the optimal amount is: \", value(nutneeds[n]) )\n",
    "end"
   ]
  },
  {
   "cell_type": "code",
   "execution_count": 10,
   "metadata": {},
   "outputs": [],
   "source": [
    "# Calories, Calcium, Vitamin A, Riboflavin, and Ascordbic Acid are all active \n",
    "# --> That is, their constraints are inequalities and yet for them the left and right hand sides are both equal\n",
    "#    This is shown above for example in Calories where the lower bound is 3.0 and the optimal amount is 3.0\n",
    "#    This means that the dual variable that corresponds to this constraint is allowed to be nonzero whereas \n",
    "#    The other dual variables will have to be 0\n",
    "# Complementarity is satisfied"
   ]
  },
  {
   "cell_type": "code",
   "execution_count": 13,
   "metadata": {},
   "outputs": [
    {
     "name": "stdout",
     "output_type": "stream",
     "text": [
      "The dual variable for Calories (1000) is: 0.0056890897818463754\n",
      "The dual variable for Protein (g) is: 0.0\n",
      "The dual variable for Calcium (g) is: 0.02983996414269529\n",
      "The dual variable for Iron (mg) is: 0.0\n",
      "The dual variable for Vitamin A (1000 IU) is: 0.000341883335328549\n",
      "The dual variable for Thiamine (mg) is: 0.0\n",
      "The dual variable for Riboflavin (mg) is: 0.020601133887870167\n",
      "The dual variable for Niacin (mg) is: 0.0\n",
      "The dual variable for Ascorbic Acid (mg) is: 0.00014354290323833802\n"
     ]
    }
   ],
   "source": [
    "# Verifying this by looking at the dual variables and seeing which are 0...\n",
    "#    All zero dual variables were inactive\n",
    "#    All nonzero dual variables were active\n",
    "for n in nutrients\n",
    "    println( \"The dual variable for \", n, \" is: \", dual(nutneeds[n]) )\n",
    "end\n"
   ]
  },
  {
   "cell_type": "markdown",
   "metadata": {},
   "source": [
    "### Part D) New optimization Problem"
   ]
  },
  {
   "cell_type": "code",
   "execution_count": 14,
   "metadata": {},
   "outputs": [
    {
     "name": "stdout",
     "output_type": "stream",
     "text": [
      "Running HiGHS 1.4.2 [date: 1970-01-01, git hash: f797c1ab6]\n",
      "Copyright (c) 2022 ERGO-Code under MIT licence terms\n",
      "Presolving model\n",
      "9 rows, 40 cols, 315 nonzeros\n",
      "9 rows, 28 cols, 220 nonzeros\n",
      "Presolve : Reductions: rows 9(-2); columns 28(-49); elements 220(-352)\n",
      "Solving the presolved LP\n",
      "Using EKK dual simplex solver - serial\n",
      "  Iteration        Objective     Infeasibilities num(sum)\n",
      "          0     1.0000006980e-02 Pr: 9(75.9634) 0s\n",
      "          5     1.1194951710e-01 Pr: 0(0) 0s\n",
      "Solving the original LP from the solution after postsolve\n",
      "Model   status      : Optimal\n",
      "Simplex   iterations: 5\n",
      "Objective value     :  1.1194951710e-01\n",
      "HiGHS run time      :          0.00\n",
      "\n",
      "We buy 0.03569701410638522 units of Wheat Flour (Enriched)\n",
      "We buy 0.01 units of Milk\n",
      "We buy 0.0021523432962831084 units of Evaporated Milk (can)\n",
      "We buy 0.010991091937036563 units of Cabbage\n",
      "We buy 0.005114223881043092 units of Spinach\n",
      "We buy 0.047994843882913016 units of Navy Beans, Dried\n",
      "\n",
      "Annual cost: 40.86157374283626\n"
     ]
    }
   ],
   "source": [
    "model = Model(HiGHS.Optimizer)\n",
    "\n",
    "# Amount spent on each food\n",
    "@variable(model, foodmoney[f in foods] >= 0)\n",
    "\n",
    "# Nutrients needed\n",
    "@constraint(model, nutneeds[n in nutrients], sum(foodmoney[f]*data[f,n] for f in foods) >= lower[n])\n",
    "@constraint(model, foodmoney[\"Liver (Beef)\"] == 0)\n",
    "@constraint(model, foodmoney[\"Milk\"] >= .01)\n",
    "\n",
    "# Minimize cost\n",
    "@objective(model, Min, sum(foodmoney[f] for f in foods))\n",
    "\n",
    "optimize!(model)\n",
    "\n",
    "# Print out results\n",
    "println()\n",
    "for f in foods\n",
    "    if value(foodmoney[f]) != 0.0\n",
    "        println(\"We buy \", value(foodmoney[f]), \" units of \", f)\n",
    "    end\n",
    "end\n",
    "\n",
    "println()\n",
    "println(\"Annual cost: \", 365*sum(value(foodmoney[f]) for f in foods) )"
   ]
  }
 ],
 "metadata": {
  "kernelspec": {
   "display_name": "Julia 1.8.5",
   "language": "julia",
   "name": "julia-1.8"
  },
  "language_info": {
   "file_extension": ".jl",
   "mimetype": "application/julia",
   "name": "julia",
   "version": "1.8.5"
  }
 },
 "nbformat": 4,
 "nbformat_minor": 1
}
