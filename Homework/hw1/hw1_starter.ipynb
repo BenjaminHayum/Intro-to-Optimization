{
 "cells": [
  {
   "cell_type": "markdown",
   "id": "fba592e2",
   "metadata": {},
   "source": [
    "### Question 1:"
   ]
  },
  {
   "cell_type": "code",
   "execution_count": 1,
   "id": "edf28032",
   "metadata": {
    "scrolled": false
   },
   "outputs": [
    {
     "name": "stderr",
     "output_type": "stream",
     "text": [
      "\u001b[32m\u001b[1m    Updating\u001b[22m\u001b[39m registry at `~/.julia/registries/General.toml`\n",
      "\u001b[32m\u001b[1m   Resolving\u001b[22m\u001b[39m package versions...\n",
      "\u001b[32m\u001b[1m  No Changes\u001b[22m\u001b[39m to `~/.julia/environments/v1.8/Project.toml`\n",
      "\u001b[32m\u001b[1m  No Changes\u001b[22m\u001b[39m to `~/.julia/environments/v1.8/Manifest.toml`\n"
     ]
    }
   ],
   "source": [
    "import Pkg\n",
    "Pkg.add(\"HiGHS\")"
   ]
  },
  {
   "cell_type": "code",
   "execution_count": 2,
   "id": "5d97d2a7",
   "metadata": {},
   "outputs": [],
   "source": [
    "using JuMP\n",
    "import HiGHS "
   ]
  },
  {
   "cell_type": "code",
   "execution_count": 3,
   "id": "4ed30394",
   "metadata": {
    "scrolled": true
   },
   "outputs": [
    {
     "name": "stdout",
     "output_type": "stream",
     "text": [
      "Running HiGHS 1.4.2 [date: 1970-01-01, git hash: f797c1ab6]\n",
      "Copyright (c) 2022 ERGO-Code under MIT licence terms\n",
      "Presolving model\n",
      "0 rows, 0 cols, 0 nonzeros\n",
      "0 rows, 0 cols, 0 nonzeros\n",
      "Presolve : Reductions: rows 0(-1); columns 0(-3); elements 0(-3) - Reduced to empty\n",
      "Solving the original LP from the solution after postsolve\n",
      "Model   status      : Optimal\n",
      "Objective value     :  8.0000000000e+01\n",
      "HiGHS run time      :          0.02\n",
      "  3.823417 seconds (2.53 M allocations: 137.854 MiB, 0.85% gc time, 99.37% compilation time)\n",
      "x[1] = 4.0\n",
      "x[2] = 0.0\n",
      "x[3] = 4.0\n",
      "objective = 80.0\n"
     ]
    }
   ],
   "source": [
    "model = Model(HiGHS.Optimizer)\n",
    "@variable(model, 0 <= x[i = 1:3] <= 4)\n",
    "@constraint(model, 2*x[1] >= x[2] + 0.5*x[3])\n",
    "@objective(model, Max, 5*x[1] - x[2] + 15*x[3])\n",
    "@time optimize!(model)\n",
    "\n",
    "println(\"x[1] = \", value(x[1]) )\n",
    "println(\"x[2] = \", value(x[2]) )\n",
    "println(\"x[3] = \", value(x[3]) )\n",
    "println(\"objective = \", objective_value(model) )"
   ]
  },
  {
   "cell_type": "code",
   "execution_count": 4,
   "id": "62d39d1c",
   "metadata": {},
   "outputs": [
    {
     "name": "stderr",
     "output_type": "stream",
     "text": [
      "\u001b[32m\u001b[1m   Resolving\u001b[22m\u001b[39m package versions...\n",
      "\u001b[32m\u001b[1m  No Changes\u001b[22m\u001b[39m to `~/.julia/environments/v1.8/Project.toml`\n",
      "\u001b[32m\u001b[1m  No Changes\u001b[22m\u001b[39m to `~/.julia/environments/v1.8/Manifest.toml`\n"
     ]
    }
   ],
   "source": [
    "Pkg.add(\"ECOS\")\n",
    "using ECOS"
   ]
  },
  {
   "cell_type": "code",
   "execution_count": 5,
   "id": "f0e18660",
   "metadata": {},
   "outputs": [
    {
     "name": "stdout",
     "output_type": "stream",
     "text": [
      "  6.082360 seconds (9.37 M allocations: 494.658 MiB, 2.35% gc time, 99.81% compilation time)\n",
      "x[1] = 3.9999999999262186\n",
      "x[2] = 4.500795264542177e-9\n",
      "x[3] = 3.999999999900907\n",
      "objective = 79.9999999936439\n",
      "\n",
      "ECOS 2.0.8 - (C) embotech GmbH, Zurich Switzerland, 2012-15. Web: www.embotech.com/ECOS\n",
      "\n",
      "It     pcost       dcost      gap   pres   dres    k/t    mu     step   sigma     IR    |   BT\n",
      " 0  -3.807e+01  -1.499e+02  +1e+02  2e-03  3e-01  1e+00  1e+01    ---    ---    1  1  - |  -  - \n",
      " 1  -6.951e+01  -8.916e+01  +2e+01  3e-04  6e-02  1e+00  3e+00  0.9010  9e-02   0  0  0 |  0  0\n",
      " 2  -7.790e+01  -9.311e+01  +1e+01  2e-04  6e-02  2e+00  2e+00  0.6129  4e-01   0  0  0 |  0  0\n",
      " 3  -7.958e+01  -8.042e+01  +7e-01  1e-05  3e-03  1e-01  1e-01  0.9452  5e-04   0  0  0 |  0  0\n",
      " 4  -8.000e+01  -8.001e+01  +9e-03  1e-07  4e-05  1e-03  1e-03  0.9881  3e-04   0  0  0 |  0  0\n",
      " 5  -8.000e+01  -8.000e+01  +1e-04  2e-09  5e-07  2e-05  1e-05  0.9890  1e-04   1  0  0 |  0  0\n",
      " 6  -8.000e+01  -8.000e+01  +1e-06  2e-11  5e-09  2e-07  1e-07  0.9890  1e-04   1  0  0 |  0  0\n",
      " 7  -8.000e+01  -8.000e+01  +1e-08  2e-13  6e-11  2e-09  2e-09  0.9890  1e-04   1  0  0 |  0  0\n",
      "\n",
      "OPTIMAL (within feastol=5.6e-11, reltol=1.5e-10, abstol=1.2e-08).\n",
      "Runtime: 0.004394 seconds.\n",
      "\n"
     ]
    }
   ],
   "source": [
    "model = Model(ECOS.Optimizer)\n",
    "@variable(model, 0 <= x[i = 1:3] <= 4)\n",
    "@constraint(model, 2*x[1] >= x[2] + 0.5*x[3])\n",
    "@objective(model, Max, 5*x[1] - x[2] + 15*x[3])\n",
    "@time optimize!(model)\n",
    "\n",
    "println(\"x[1] = \", value(x[1]) )\n",
    "println(\"x[2] = \", value(x[2]) )\n",
    "println(\"x[3] = \", value(x[3]) )\n",
    "println(\"objective = \", objective_value(model) )"
   ]
  },
  {
   "cell_type": "code",
   "execution_count": 6,
   "id": "2c54a5bb",
   "metadata": {},
   "outputs": [
    {
     "name": "stderr",
     "output_type": "stream",
     "text": [
      "\u001b[32m\u001b[1m   Resolving\u001b[22m\u001b[39m package versions...\n",
      "\u001b[32m\u001b[1m  No Changes\u001b[22m\u001b[39m to `~/.julia/environments/v1.8/Project.toml`\n",
      "\u001b[32m\u001b[1m  No Changes\u001b[22m\u001b[39m to `~/.julia/environments/v1.8/Manifest.toml`\n"
     ]
    }
   ],
   "source": [
    "Pkg.add(\"SCS\")\n",
    "using SCS"
   ]
  },
  {
   "cell_type": "code",
   "execution_count": 7,
   "id": "bdc5c47e",
   "metadata": {},
   "outputs": [
    {
     "name": "stdout",
     "output_type": "stream",
     "text": [
      "  5.165960 seconds (7.44 M allocations: 397.666 MiB, 2.59% gc time, 99.78% compilation time)\n",
      "x[1] = 3.9998479853808693\n",
      "x[2] = 0.0001512826646977625\n",
      "x[3] = 4.000074789615507\n",
      "objective = 80.00021048847225\n",
      "------------------------------------------------------------------\n",
      "\t       SCS v3.2.1 - Splitting Conic Solver\n",
      "\t(c) Brendan O'Donoghue, Stanford University, 2012\n",
      "------------------------------------------------------------------\n",
      "problem:  variables n: 3, constraints m: 7\n",
      "cones: \t  l: linear vars: 7\n",
      "settings: eps_abs: 1.0e-04, eps_rel: 1.0e-04, eps_infeas: 1.0e-07\n",
      "\t  alpha: 1.50, scale: 1.00e-01, adaptive_scale: 1\n",
      "\t  max_iters: 100000, normalize: 1, rho_x: 1.00e-06\n",
      "\t  acceleration_lookback: 10, acceleration_interval: 10\n",
      "lin-sys:  sparse-direct-amd-qdldl\n",
      "\t  nnz(A): 9, nnz(P): 0\n",
      "------------------------------------------------------------------\n",
      " iter | pri res | dua res |   gap   |   obj   |  scale  | time (s)\n",
      "------------------------------------------------------------------\n",
      "     0| 1.49e+02  1.11e+00  2.38e+03 -1.27e+03  1.00e-01  4.54e-03 \n",
      "    75| 1.52e-04  5.05e-05  5.32e-05 -8.00e+01  1.00e-01  4.95e-03 \n",
      "------------------------------------------------------------------\n",
      "status:  solved\n",
      "timings: total: 4.96e-03s = setup: 4.02e-03s + solve: 9.36e-04s\n",
      "\t lin-sys: 6.55e-05s, cones: 4.50e-04s, accel: 3.62e-06s\n",
      "------------------------------------------------------------------\n",
      "objective = -80.000184\n",
      "------------------------------------------------------------------\n"
     ]
    }
   ],
   "source": [
    "model = Model(SCS.Optimizer)\n",
    "@variable(model, 0 <= x[i = 1:3] <= 4)\n",
    "@constraint(model, 2*x[1] >= x[2] + 0.5*x[3])\n",
    "@objective(model, Max, 5*x[1] - x[2] + 15*x[3])\n",
    "@time optimize!(model)\n",
    "\n",
    "println(\"x[1] = \", value(x[1]) )\n",
    "println(\"x[2] = \", value(x[2]) )\n",
    "println(\"x[3] = \", value(x[3]) )\n",
    "println(\"objective = \", objective_value(model) )"
   ]
  },
  {
   "cell_type": "markdown",
   "id": "6233f63b",
   "metadata": {},
   "source": [
    "Part A:\n",
    "- All solvers give the same result plus or minus some small decimal margin of error\n",
    "\n",
    "Part B:\n",
    "- HiGHS solved in 0.000472 seconds\n",
    "- ECOS solved in 0.000533 seconds\n",
    "- SCS solved in 0.000697 seconds\n",
    "- I do not know enough about the implementations of each solver to say why the speeds were different. They were overall pretty close though.\n",
    "\n",
    "--> UPDATE: HiGHS is fastest but least generalizeable whereas SCS is the slowest but most generalizeable across different conditions\n",
    "\n",
    "Part C:\n",
    "- The threshold of alpha that this is at is 8. This is because 2x[1] given x's constraints of having to be greater than 0 and less than 4 has a maximum value of 8. In the first constraint we see that 2x[1] has to be greater than x[2] and 0.5x[3] + alpha. So, if alpha is above 8 then no matter what x[2] and x[3] are this constraint will never be satisfied"
   ]
  },
  {
   "cell_type": "markdown",
   "id": "90932741",
   "metadata": {},
   "source": [
    "### Question 2"
   ]
  },
  {
   "cell_type": "code",
   "execution_count": 8,
   "id": "5a93db1c",
   "metadata": {},
   "outputs": [
    {
     "name": "stdout",
     "output_type": "stream",
     "text": [
      "Running HiGHS 1.4.2 [date: 1970-01-01, git hash: f797c1ab6]\n",
      "Copyright (c) 2022 ERGO-Code under MIT licence terms\n",
      "Presolving model\n",
      "2 rows, 4 cols, 8 nonzeros\n",
      "0 rows, 0 cols, 0 nonzeros\n",
      "0 rows, 0 cols, 0 nonzeros\n",
      "Presolve : Reductions: rows 0(-4); columns 0(-4); elements 0(-10) - Reduced to empty\n",
      "Solving the original LP from the solution after postsolve\n",
      "Model   status      : Optimal\n",
      "Objective value     :  9.5000000000e+01\n",
      "HiGHS run time      :          0.00\n",
      "x[1] = 0.0\n",
      "x[2] = 25.0\n",
      "x[3] = 0.0\n",
      "x[4] = 25.0\n"
     ]
    }
   ],
   "source": [
    "# Solving it in standard form\n",
    "using LinearAlgebra\n",
    "\n",
    "model = Model()\n",
    "\n",
    "# we define the vector x to be: x = [z_1'; z_1\";  z_2;  z_3']\n",
    "# z_1 = z_1' - z_1\"\n",
    "# z_3' = z_3 + 5\n",
    "\n",
    "A = [2 -2 -1 3; -2 2 1 -3; 0 0 1 0; 0 0 0 1] \n",
    "# Had to to it and its reverse to do the <= and >= --> == transform\n",
    "# Added last two rows to do the upper bounds for z2 and z3\n",
    "\n",
    "b = [25; -25; 5; 25] \n",
    "# Same here with <= and >= AND turned it to 25 to account for the 3z_3 = 10 when z_3' = z_3 + 5\n",
    "# Added last two rows to do the upper bounds for z2 and z3\n",
    "\n",
    "c = [-3; 3; -2; 1] \n",
    "# Reversed the original because we're transforming min/max\n",
    "\n",
    "m = Model(HiGHS.Optimizer)\n",
    "@variable(m, x[1:4] >= 0 )\n",
    "@constraint(m, A*x .<= b )\n",
    "@objective(m, Max, dot(c,x) - 5) # -5 at the end because -z_3' turns to -z_3 - 5 when z_3' = z_3 + 5\n",
    "\n",
    "optimize!(m)\n",
    "\n",
    "println(\"x[1] = \", value(x[1]) )\n",
    "println(\"x[2] = \", value(x[2]) )\n",
    "println(\"x[3] = \", value(x[3]) )\n",
    "println(\"x[4] = \", value(x[4]) )"
   ]
  },
  {
   "cell_type": "code",
   "execution_count": 9,
   "id": "264dc89b",
   "metadata": {},
   "outputs": [
    {
     "name": "stdout",
     "output_type": "stream",
     "text": [
      "Running HiGHS 1.4.2 [date: 1970-01-01, git hash: f797c1ab6]\n",
      "Copyright (c) 2022 ERGO-Code under MIT licence terms\n",
      "Presolving model\n",
      "0 rows, 2 cols, 0 nonzeros\n",
      "0 rows, 0 cols, 0 nonzeros\n",
      "Presolve : Reductions: rows 0(-1); columns 0(-3); elements 0(-3) - Reduced to empty\n",
      "Solving the original LP from the solution after postsolve\n",
      "Model   status      : Optimal\n",
      "Objective value     : -9.5000000000e+01\n",
      "HiGHS run time      :          0.00\n",
      "z1 = -25.0\n",
      "z2 = 0.0\n",
      "z3 = 20.0\n"
     ]
    }
   ],
   "source": [
    "# Solving in regularly\n",
    "m = Model(HiGHS.Optimizer)\n",
    "@variable(m, z1)\n",
    "@variable(m, 0 <= z2 <= 5)\n",
    "@variable(m, -5 <= z3 <= 20)\n",
    "@constraint(m, 2*z1 - z2 + 3*z3 == 10)\n",
    "@objective(m, Min, 3*z1 + 2*z2 - z3)\n",
    "optimize!(m)\n",
    "\n",
    "println(\"z1 = \", value(z1) )\n",
    "println(\"z2 = \", value(z2) )\n",
    "println(\"z3 = \", value(z3) )"
   ]
  },
  {
   "cell_type": "markdown",
   "id": "d0373b43",
   "metadata": {},
   "source": [
    "Recovered both optimal values!"
   ]
  },
  {
   "cell_type": "markdown",
   "id": "182134c3",
   "metadata": {},
   "source": [
    "### Question 3"
   ]
  },
  {
   "cell_type": "code",
   "execution_count": 10,
   "id": "8b9bd541",
   "metadata": {},
   "outputs": [
    {
     "name": "stdout",
     "output_type": "stream",
     "text": [
      "Nothing to optimize here\n"
     ]
    }
   ],
   "source": [
    "# x = [x1', x2', x3]\n",
    "# x1' = x1 + 1\n",
    "# x2' = x2 + 1\n",
    "\n",
    "# Drew out on my ipad and then thought out and listed the equations and constraints I needed\n",
    "\n",
    "model = Model()\n",
    "\n",
    "A = [1 0 0; # Setting upper bounds to be 2 given definition above -- assuming same standard form constraints as question 2\n",
    "    0 1 0; # Setting upper bounds to be 2 given definition above\n",
    "    0.5 0 1; # 0.5*x1' + x3 <= 3/2\n",
    "    0.5 0 -1; # 0.5*x1' - x3 <= -5/2\n",
    "    0 0.5 1; # 0.5*x2' + x3 <= 3/2\n",
    "    0 0.5 -1]  # 0.5*x2' - x3 <= -5/2\n",
    "\n",
    "b = [2; 2; 1.5; -2.5; 1.5; -2.5]\n",
    "\n",
    "\n",
    "println(\"Nothing to optimize here\")"
   ]
  },
  {
   "cell_type": "markdown",
   "id": "fa67c038",
   "metadata": {},
   "source": [
    "### Question 4\n",
    "# Alloy blending problem\n",
    "\n",
    "\n",
    "The company Steelco has received an order for 500 tonnes of steel to be used in shipbuilding.  The steel must have the following charactersitics:\n",
    "\n",
    "| Chemical Element | Minimum Grade | Maximum Grade |\n",
    "|------------------|---------------|---------------|\n",
    "| Carbon (C)       | 2             | 3             |\n",
    "| Copper (Cu)      | 0.4           | 0.6           |\n",
    "| Manganese (Mn)   | 1.2           | 1.65          |\n",
    "\n",
    "The company has seven different raw materials in stock that may be used for the production of this steel. The following table lists the grades, available amounts and prices for all materials:\n",
    "\n",
    "| Raw Material | C%     | Cu%    | Mn%    | Availability in t | Cost in $/t  |\n",
    "|--------------|--------|--------|--------|-------------------|--------------|\n",
    "| Iron1        | 2.5    | 0      | 1.3    | 400               | 200          |\n",
    "| Iron2        | 3      | 0      | 0.8    | 300               | 250          |\n",
    "| Iron3        | 0      | 0.3    | 0      | 600               | 150          |\n",
    "| Cu1          | 0      | 90     | 0      | 500               | 220          |\n",
    "| Cu2          | 0      | 96     | 4      | 200               | 240          |\n",
    "| Al1          | 0      | 0.4    | 1.2    | 300               | 200          |\n",
    "| Al2          | 0      | 0.6    | 0      | 250               | 165          |\n",
    "\n",
    "The objective is to determine the composition of the steel that minimizes the production cost."
   ]
  },
  {
   "cell_type": "markdown",
   "id": "6e811bdd",
   "metadata": {},
   "source": [
    "#### Problem data"
   ]
  },
  {
   "cell_type": "code",
   "execution_count": 11,
   "id": "d83e38da",
   "metadata": {},
   "outputs": [],
   "source": [
    "using JuMP\n",
    "\n",
    "raw = [:iron1, :iron2, :iron3, :cu1, :cu2, :al1, :al2]\n",
    "\n",
    "# composition (in percent) of [C, Cu, Mn]\n",
    "composition = Dict(\n",
    ":iron1 => [2.5,0,1.3],\n",
    ":iron2 => [3,0,0.8],\n",
    ":iron3 => [0,0.3,0],\n",
    ":cu1 => [0,90,0],\n",
    ":cu2 => [0,96,4],\n",
    ":al1 => [0,0.4,1.2],\n",
    ":al2 => [0,0.6,0])\n",
    "\n",
    "# availability in tonnes\n",
    "availability = Dict(\n",
    ":iron1 => 400,\n",
    ":iron2 => 300,\n",
    ":iron3 => 600,\n",
    ":cu1 => 500,\n",
    ":cu2 => 200,\n",
    ":al1 => 300,\n",
    ":al2 => 250)\n",
    "\n",
    "# cost in dollars per tonne\n",
    "cost = Dict(\n",
    ":iron1 => 200,\n",
    ":iron2 => 250,\n",
    ":iron3 => 150,\n",
    ":cu1 => 220,\n",
    ":cu2 => 240,\n",
    ":al1 => 200,\n",
    ":al2 => 165)\n",
    "\n",
    "# minimum and maximum grade of [C, Cu, Mn]\n",
    "MinGrade = [2, 0.4, 1.2]\n",
    "MaxGrade = [3, 0.6, 1.65]\n",
    ";"
   ]
  },
  {
   "cell_type": "code",
   "execution_count": 12,
   "id": "f69d5e55",
   "metadata": {},
   "outputs": [
    {
     "ename": "LoadError",
     "evalue": "MethodError: no method matching /(::Base.Generator{Vector{Symbol}, var\"#11#12\"}, ::AffExpr)\n\u001b[0mClosest candidates are:\n\u001b[0m  /(\u001b[91m::Union{MathOptInterface.ScalarAffineFunction{T}, MathOptInterface.ScalarQuadraticFunction{T}, MathOptInterface.VectorAffineFunction{T}, MathOptInterface.VectorQuadraticFunction{T}}\u001b[39m, ::T) where T at ~/.julia/packages/MathOptInterface/cl3eR/src/Utilities/functions.jl:2593\n\u001b[0m  /(\u001b[91m::AbstractVariableRef\u001b[39m, ::GenericAffExpr) at ~/.julia/packages/JuMP/yYfHy/src/operators.jl:147\n\u001b[0m  /(\u001b[91m::ChainRulesCore.AbstractThunk\u001b[39m, ::Any) at ~/.julia/packages/ChainRulesCore/a4mIA/src/tangent_types/thunks.jl:37\n\u001b[0m  ...",
     "output_type": "error",
     "traceback": [
      "MethodError: no method matching /(::Base.Generator{Vector{Symbol}, var\"#11#12\"}, ::AffExpr)\n\u001b[0mClosest candidates are:\n\u001b[0m  /(\u001b[91m::Union{MathOptInterface.ScalarAffineFunction{T}, MathOptInterface.ScalarQuadraticFunction{T}, MathOptInterface.VectorAffineFunction{T}, MathOptInterface.VectorQuadraticFunction{T}}\u001b[39m, ::T) where T at ~/.julia/packages/MathOptInterface/cl3eR/src/Utilities/functions.jl:2593\n\u001b[0m  /(\u001b[91m::AbstractVariableRef\u001b[39m, ::GenericAffExpr) at ~/.julia/packages/JuMP/yYfHy/src/operators.jl:147\n\u001b[0m  /(\u001b[91m::ChainRulesCore.AbstractThunk\u001b[39m, ::Any) at ~/.julia/packages/ChainRulesCore/a4mIA/src/tangent_types/thunks.jl:37\n\u001b[0m  ...",
      "",
      "Stacktrace:",
      " [1] macro expansion",
      "   @ ~/.julia/packages/MutableArithmetics/9dpep/src/rewrite.jl:322 [inlined]",
      " [2] macro expansion",
      "   @ ~/.julia/packages/JuMP/yYfHy/src/macros.jl:832 [inlined]",
      " [3] top-level scope",
      "   @ In[12]:15"
     ]
    }
   ],
   "source": [
    "m = Model(HiGHS.Optimizer)\n",
    "@variable(m, 0 <= used[raw])\n",
    "for r in raw\n",
    "    @constraint(m, used[r] <= availability[r])\n",
    "end\n",
    "\n",
    "# Don't know exactly what is meant by making a steel composition within those boundaries\n",
    "\n",
    "# What I want to do in this one line: \n",
    "#    Composition times amount used gets you tons of each 3\n",
    "#    Sum across each 7 to find total in end\n",
    "#    Divide by total number of tons\n",
    "#    Check that all 3 are within the bounds\n",
    "# Don't understand why the following code has errors. Otherwise, it should do so:\n",
    "@constraint(m, sum(MinGrade .<= ([0 0 0] .+ composition[r]*used[r] for r in raw)/sum(x) .<= MaxGrade) == 3 )\n",
    "@objective(m, Min, sum(cost[r]*used[r] for r in raw))"
   ]
  }
 ],
 "metadata": {
  "kernelspec": {
   "display_name": "Julia 1.8.5",
   "language": "julia",
   "name": "julia-1.8"
  },
  "language_info": {
   "file_extension": ".jl",
   "mimetype": "application/julia",
   "name": "julia",
   "version": "1.8.5"
  }
 },
 "nbformat": 4,
 "nbformat_minor": 5
}
