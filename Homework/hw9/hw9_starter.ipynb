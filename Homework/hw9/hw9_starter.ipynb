{
 "cells": [
  {
   "cell_type": "markdown",
   "metadata": {},
   "source": [
    "# CS/ECE/ISyE 524 - Spr 2021 - HW 9\n",
    "### Ben Hayum"
   ]
  },
  {
   "cell_type": "markdown",
   "metadata": {},
   "source": [
    "# 1. Making Change\n",
    "\n",
    "How should you make change for 99 cents if the goal is to minimize the total weight of the coins used? You may use any number of each type of coin. Here are the weights of each coin:\n",
    "\n",
    "|Type of Coin       | penny | nickel | dime | quarter |\n",
    "|:------------------|-------|--------|------|---------|\n",
    "|Weight             |  2.500|5.000   | 2.268| 5.670   |\n",
    "\n",
    "\n",
    "\n",
    "Print the number of each type of coin used, and the total weight."
   ]
  },
  {
   "cell_type": "code",
   "execution_count": 1,
   "metadata": {
    "scrolled": true
   },
   "outputs": [
    {
     "name": "stdout",
     "output_type": "stream",
     "text": [
      "Total coin weight: 31.54600000000001\n",
      "\n",
      "Number of pennies: 4.0\n",
      "Number of nickels: 0.0\n",
      "Number of dimes: 6.999999999999999\n",
      "Number of quarters: 1.0\n",
      "\n",
      "\n",
      "Welcome to the CBC MILP Solver \n",
      "Version: 2.10.5 \n",
      "Build Date: Mar 11 2021 \n",
      "\n",
      "command line - Cbc_C_Interface -solve -quit (default strategy 1)\n",
      "Continuous objective value is 22.4532 - 0.00 seconds\n",
      "Cgl0004I processed model has 1 rows, 18 columns (18 integer (18 of which binary)) and 18 elements\n",
      "Cbc0038I Initial state - 1 integers unsatisfied sum - 0.3\n",
      "Cbc0038I Pass   1: suminf.    0.12000 (1) obj. 22.4532 iterations 1\n",
      "Cbc0038I Pass   2: suminf.    0.45000 (1) obj. 56.474 iterations 1\n",
      "Cbc0038I Pass   3: suminf.    0.45000 (1) obj. 56.474 iterations 0\n",
      "Cbc0038I Pass   4: suminf.    0.42500 (1) obj. 56.474 iterations 1\n",
      "Cbc0038I Pass   5: suminf.    0.42500 (1) obj. 56.474 iterations 0\n",
      "Cbc0038I Pass   6: suminf.    0.42500 (1) obj. 56.474 iterations 0\n",
      "Cbc0038I Pass   7: suminf.    0.38750 (1) obj. 75.804 iterations 3\n",
      "Cbc0038I Pass   8: suminf.    0.38750 (1) obj. 75.804 iterations 0\n",
      "Cbc0038I Pass   9: suminf.    0.38750 (1) obj. 75.804 iterations 0\n",
      "Cbc0038I Pass  10: suminf.    0.28750 (1) obj. 76.608 iterations 4\n",
      "Cbc0038I Pass  11: suminf.    0.28750 (1) obj. 76.608 iterations 0\n",
      "Cbc0038I Pass  12: suminf.    0.28750 (1) obj. 76.608 iterations 0\n",
      "Cbc0038I Pass  13: suminf.    0.22500 (1) obj. 131.567 iterations 2\n",
      "Cbc0038I Pass  14: suminf.    0.22500 (1) obj. 131.567 iterations 0\n",
      "Cbc0038I Pass  15: suminf.    0.38750 (1) obj. 155.536 iterations 1\n",
      "Cbc0038I Pass  16: suminf.    0.38750 (1) obj. 155.536 iterations 0\n",
      "Cbc0038I Pass  17: suminf.    0.42188 (1) obj. 187.036 iterations 5\n",
      "Cbc0038I Pass  18: suminf.    0.33750 (1) obj. 146.536 iterations 1\n",
      "Cbc0038I Pass  19: suminf.    0.33750 (1) obj. 146.536 iterations 0\n",
      "Cbc0038I Pass  20: suminf.    0.25000 (1) obj. 126.804 iterations 4\n",
      "Cbc0038I Pass  21: suminf.    0.25000 (1) obj. 126.804 iterations 0\n",
      "Cbc0038I Pass  22: suminf.    0.30000 (1) obj. 90.804 iterations 1\n",
      "Cbc0038I Pass  23: suminf.    0.30000 (1) obj. 90.804 iterations 0\n",
      "Cbc0038I Pass  24: suminf.    0.36000 (1) obj. 54.0616 iterations 2\n",
      "Cbc0038I Pass  25: suminf.    0.36000 (1) obj. 54.0616 iterations 0\n",
      "Cbc0038I Pass  26: suminf.    0.40000 (1) obj. 78.804 iterations 1\n",
      "Cbc0038I Pass  27: suminf.    0.40000 (1) obj. 78.804 iterations 0\n",
      "Cbc0038I Pass  28: suminf.    0.31250 (1) obj. 156.804 iterations 3\n",
      "Cbc0038I Pass  29: suminf.    0.25000 (1) obj. 126.804 iterations 1\n",
      "Cbc0038I Pass  30: suminf.    0.25000 (1) obj. 126.804 iterations 0\n",
      "Cbc0038I No solution found this major pass\n",
      "Cbc0038I Before mini branch and bound, 4 integers at bound fixed and 0 continuous\n",
      "Cbc0038I Full problem 1 rows 18 columns, reduced to 1 rows 14 columns\n",
      "Cbc0038I Mini branch and bound improved solution from 1.79769e+308 to 77.01 (0.01 seconds)\n",
      "Cbc0038I Round again with cutoff of 71.5543\n",
      "Cbc0038I Reduced cost fixing fixed 3 variables on major pass 2\n",
      "Cbc0038I Pass  30: suminf.    0.12000 (1) obj. 22.4532 iterations 0\n",
      "Cbc0038I Pass  31: suminf.    0.45000 (1) obj. 22.4532 iterations 1\n",
      "Cbc0038I Pass  32: suminf.    0.45000 (1) obj. 22.4532 iterations 0\n",
      "Cbc0038I Pass  33: suminf.    0.30000 (1) obj. 37.9172 iterations 1\n",
      "Cbc0038I Pass  34: suminf.    0.30000 (1) obj. 37.9172 iterations 0\n",
      "Cbc0038I Pass  35: suminf.    0.30000 (1) obj. 37.9172 iterations 0\n",
      "Cbc0038I Pass  36: suminf.    0.18750 (1) obj. 70.206 iterations 7\n",
      "Cbc0038I Pass  37: suminf.    0.18750 (1) obj. 70.206 iterations 0\n",
      "Cbc0038I Pass  38: suminf.    0.18750 (1) obj. 70.206 iterations 0\n",
      "Cbc0038I Pass  39: suminf.    0.30000 (1) obj. 70.206 iterations 1\n",
      "Cbc0038I Pass  40: suminf.    0.18750 (1) obj. 70.206 iterations 1\n",
      "Cbc0038I Pass  41: suminf.    0.72887 (2) obj. 71.5543 iterations 7\n",
      "Cbc0038I Pass  42: suminf.    0.24000 (1) obj. 63.1544 iterations 1\n",
      "Cbc0038I Pass  43: suminf.    0.47500 (1) obj. 63.1544 iterations 1\n",
      "Cbc0038I Pass  44: suminf.    0.47500 (1) obj. 63.1544 iterations 0\n",
      "Cbc0038I Pass  45: suminf.    0.42500 (1) obj. 66.974 iterations 6\n",
      "Cbc0038I Pass  46: suminf.    0.21250 (1) obj. 53.8296 iterations 1\n",
      "Cbc0038I Pass  47: suminf.    0.21250 (1) obj. 53.8296 iterations 0\n",
      "Cbc0038I Pass  48: suminf.    0.55612 (2) obj. 71.5543 iterations 7\n",
      "Cbc0038I Pass  49: suminf.    0.33750 (1) obj. 69.0616 iterations 2\n",
      "Cbc0038I Pass  50: suminf.    0.33750 (1) obj. 69.0616 iterations 0\n",
      "Cbc0038I Pass  51: suminf.    0.10000 (1) obj. 56.1028 iterations 3\n",
      "Cbc0038I Pass  52: suminf.    0.10000 (1) obj. 56.1028 iterations 0\n",
      "Cbc0038I Pass  53: suminf.    0.45000 (1) obj. 56.1028 iterations 1\n",
      "Cbc0038I Pass  54: suminf.    0.45000 (1) obj. 56.1028 iterations 0\n",
      "Cbc0038I Pass  55: suminf.    0.23008 (2) obj. 71.5543 iterations 4\n",
      "Cbc0038I Pass  56: suminf.    0.08750 (1) obj. 65.1956 iterations 2\n",
      "Cbc0038I Pass  57: suminf.    0.08750 (1) obj. 65.1956 iterations 0\n",
      "Cbc0038I Pass  58: suminf.    0.20000 (1) obj. 47.01 iterations 3\n",
      "Cbc0038I Pass  59: suminf.    0.50000 (1) obj. 47.01 iterations 1\n",
      "Cbc0038I Rounding solution of 47.01 is better than previous of 77.01\n",
      "\n",
      "Cbc0038I Before mini branch and bound, 4 integers at bound fixed and 0 continuous\n",
      "Cbc0038I Full problem 1 rows 18 columns, reduced to 1 rows 13 columns\n",
      "Cbc0038I Mini branch and bound improved solution from 47.01 to 31.546 (0.01 seconds)\n",
      "Cbc0038I Round again with cutoff of 29.7274\n",
      "Cbc0038I Reduced cost fixing fixed 9 variables on major pass 3\n",
      "Cbc0038I Pass  59: suminf.    0.12000 (1) obj. 22.4532 iterations 0\n",
      "Cbc0038I Pass  60: suminf.    0.45000 (1) obj. 22.4532 iterations 1\n",
      "Cbc0038I Pass  61: suminf.    0.45000 (1) obj. 22.4532 iterations 0\n",
      "Cbc0038I Pass  62: suminf.    0.05000 (1) obj. 22.4532 iterations 2\n",
      "Cbc0038I Pass  63: suminf.    0.05000 (1) obj. 22.4532 iterations 0\n",
      "Cbc0038I Pass  64: suminf.    0.05000 (1) obj. 22.4532 iterations 0\n",
      "Cbc0038I Pass  65: suminf.    0.05000 (1) obj. 22.4532 iterations 0\n",
      "Cbc0038I Pass  66: suminf.    0.05000 (1) obj. 22.4532 iterations 0\n",
      "Cbc0038I Pass  67: suminf.    0.35000 (1) obj. 26.9996 iterations 2\n",
      "Cbc0038I Pass  68: suminf.    0.35000 (1) obj. 26.9996 iterations 0\n",
      "Cbc0038I Pass  69: suminf.    0.35000 (1) obj. 26.9996 iterations 0\n",
      "Cbc0038I Pass  70: suminf.    0.33750 (1) obj. 26.9996 iterations 2\n",
      "Cbc0038I Pass  71: suminf.    0.33750 (1) obj. 26.9996 iterations 0\n",
      "Cbc0038I Pass  72: suminf.    0.33750 (1) obj. 26.9996 iterations 0\n",
      "Cbc0038I Pass  73: suminf.    0.42500 (1) obj. 29.2728 iterations 2\n",
      "Cbc0038I Pass  74: suminf.    0.42500 (1) obj. 29.2728 iterations 0\n",
      "Cbc0038I Pass  75: suminf.    0.42500 (1) obj. 29.2728 iterations 0\n",
      "Cbc0038I Pass  76: suminf.    0.71840 (2) obj. 29.7274 iterations 2\n",
      "Cbc0038I Pass  77: suminf.    0.46250 (1) obj. 28.5924 iterations 1\n",
      "Cbc0038I Pass  78: suminf.    0.46250 (1) obj. 28.5924 iterations 0\n",
      "Cbc0038I Pass  79: suminf.    0.42500 (1) obj. 26.3192 iterations 2\n",
      "Cbc0038I Pass  80: suminf.    0.42500 (1) obj. 26.3192 iterations 0\n",
      "Cbc0038I Pass  81: suminf.    0.42500 (1) obj. 26.3192 iterations 0\n",
      "Cbc0038I Pass  82: suminf.    0.18000 (1) obj. 22.4532 iterations 2\n",
      "Cbc0038I Pass  83: suminf.    0.18000 (1) obj. 22.4532 iterations 0\n",
      "Cbc0038I Pass  84: suminf.    0.48750 (1) obj. 22.4532 iterations 1\n",
      "Cbc0038I Pass  85: suminf.    0.48750 (1) obj. 22.4532 iterations 0\n",
      "Cbc0038I Pass  86: suminf.    0.06000 (1) obj. 26.9996 iterations 3\n",
      "Cbc0038I Pass  87: suminf.    0.41250 (1) obj. 26.9996 iterations 1\n",
      "Cbc0038I Pass  88: suminf.    0.41250 (1) obj. 26.9996 iterations 0\n",
      "Cbc0038I No solution found this major pass\n",
      "Cbc0038I Before mini branch and bound, 9 integers at bound fixed and 0 continuous\n",
      "Cbc0038I Full problem 1 rows 18 columns, reduced to 1 rows 9 columns\n",
      "Cbc0038I Mini branch and bound did not improve solution (0.01 seconds)\n",
      "Cbc0038I After 0.01 seconds - Feasibility pump exiting with objective of 31.546 - took 0.01 seconds\n",
      "Cbc0012I Integer solution of 31.546 found by feasibility pump after 0 iterations and 0 nodes (0.01 seconds)\n",
      "Cbc0038I Full problem 1 rows 18 columns, reduced to 1 rows 4 columns\n",
      "Cbc0031I 2 added rows had average density of 2.5\n",
      "Cbc0013I At root node, 8 cuts changed objective from 22.4532 to 34.8244 in 2 passes\n",
      "Cbc0014I Cut generator 0 (Probing) - 0 row cuts average 0.0 elements, 5 column cuts (5 active)  in 0.000 seconds - new frequency is 1\n",
      "Cbc0014I Cut generator 1 (Gomory) - 2 row cuts average 6.0 elements, 0 column cuts (0 active)  in 0.000 seconds - new frequency is 1\n",
      "Cbc0014I Cut generator 2 (Knapsack) - 9 row cuts average 3.3 elements, 0 column cuts (0 active)  in 0.000 seconds - new frequency is 1\n",
      "Cbc0014I Cut generator 3 (Clique) - 0 row cuts average 0.0 elements, 0 column cuts (0 active)  in 0.000 seconds - new frequency is -100\n",
      "Cbc0014I Cut generator 4 (MixedIntegerRounding2) - 1 row cuts average 7.0 elements, 0 column cuts (0 active)  in 0.000 seconds - new frequency is 1\n",
      "Cbc0014I Cut generator 5 (FlowCover) - 0 row cuts average 0.0 elements, 0 column cuts (0 active)  in 0.000 seconds - new frequency is -100\n",
      "Cbc0001I Search completed - best objective 31.54600000000001, took 6 iterations and 0 nodes (0.02 seconds)\n",
      "Cbc0035I Maximum depth 0, 7 variables fixed on reduced cost\n",
      "Cuts at root node changed objective from 22.4532 to 34.8244\n",
      "Probing was tried 2 times and created 5 cuts of which 0 were active after adding rounds of cuts (0.000 seconds)\n",
      "Gomory was tried 2 times and created 2 cuts of which 0 were active after adding rounds of cuts (0.000 seconds)\n",
      "Knapsack was tried 2 times and created 9 cuts of which 0 were active after adding rounds of cuts (0.000 seconds)\n",
      "Clique was tried 2 times and created 0 cuts of which 0 were active after adding rounds of cuts (0.000 seconds)\n",
      "MixedIntegerRounding2 was tried 2 times and created 1 cuts of which 0 were active after adding rounds of cuts (0.000 seconds)\n",
      "FlowCover was tried 2 times and created 0 cuts of which 0 were active after adding rounds of cuts (0.000 seconds)\n",
      "TwoMirCuts was tried 1 times and created 0 cuts of which 0 were active after adding rounds of cuts (0.000 seconds)\n",
      "ZeroHalf was tried 1 times and created 0 cuts of which 0 were active after adding rounds of cuts (0.000 seconds)\n",
      "\n",
      "Result - Optimal solution found\n",
      "\n",
      "Objective value:                31.54600000\n",
      "Enumerated nodes:               0\n",
      "Total iterations:               6\n",
      "Time (CPU seconds):             0.02\n",
      "Time (Wallclock seconds):       0.01\n",
      "\n",
      "Total time (CPU seconds):       0.02   (Wallclock seconds):       0.01\n",
      "\n"
     ]
    }
   ],
   "source": [
    "# problem data\n",
    "weights = [ 2.500, 5.000, 2.268, 5.670]\n",
    "values = [ 1, 5, 10, 25 ]\n",
    "n = length(weights) # total number of coin types\n",
    "\n",
    "using JuMP, Cbc\n",
    "m = Model(Cbc.Optimizer)\n",
    "\n",
    "#using JuMP, HiGHS\n",
    "#m = Model(HiGHS.Optimizer)\n",
    "\n",
    "@variable(m, coin_binary[1:4, 1:7], Bin)\n",
    "@variable(m, 0 <= coin_count[1:4] <= 100)\n",
    "\n",
    "# Using binary to get integers for the coin counts\n",
    "for i in 1:4\n",
    "    @constraint(m, coin_count[i] == 1*coin_binary[i, 1] + 2*coin_binary[i, 2] + 4*coin_binary[i, 3] + \n",
    "                                8*coin_binary[i, 4] + 16*coin_binary[i, 5] + 32*coin_binary[i, 6] + \n",
    "                                64*coin_binary[i, 7])\n",
    "end\n",
    "\n",
    "@constraint(m, sum(coin_count[i]*values[i] for i in 1:n) == 99 )\n",
    "@objective(m, Min, sum(coin_count[i]*weights[i] for i in 1:n) )\n",
    "\n",
    "optimize!(m)\n",
    "\n",
    "println(\"Total coin weight: \", objective_value(m))\n",
    "println(\"\\nNumber of pennies: \", value(coin_count[1]))\n",
    "println(\"Number of nickels: \", value(coin_count[2]))\n",
    "println(\"Number of dimes: \", value(coin_count[3]))\n",
    "println(\"Number of quarters: \", value(coin_count[4]))\n",
    "println(\"\\n\")"
   ]
  },
  {
   "cell_type": "markdown",
   "metadata": {},
   "source": [
    "# 2. Comquat Computers\n",
    "\n",
    "Comquat owns four production plants at which personal computers are produced. Comquat can sell up to 20,000 computers per year at a price of \\$3,500 per computer. For each plant the production capacity, cost per computer, and fixed cost of operating the plant for a year are given below. Determine how Comquat can maximize its yearly profit from computer production.\n",
    "\n",
    "| Plant | Production capacity | Plant fixed cost (\\$ Million) | Cost per computer (\\$) |\n",
    "|:-----:|:-------------------:|:-----------------------------:|:----------------------:|\n",
    "| 1     | 10,000              |   9                           |  1,000                 |\n",
    "| 2     |  8,000              |   5                           |  1,700                 |\n",
    "| 3     |  9,000              |   3                           |  2,300                 |\n",
    "| 4     |  6,000              |   1                           |  2,900                 |"
   ]
  },
  {
   "cell_type": "code",
   "execution_count": 2,
   "metadata": {},
   "outputs": [
    {
     "name": "stdout",
     "output_type": "stream",
     "text": [
      "The maximal profit is: 2.56e7\n",
      "Here is a tally of factory number, whether it's open or not, and how many computers it should produce.\n"
     ]
    },
    {
     "data": {
      "text/plain": [
       "4×3 Matrix{Float64}:\n",
       " 1.0  1.0  10000.0\n",
       " 2.0  1.0   8000.0\n",
       " 3.0  0.0      0.0\n",
       " 4.0  1.0   2000.0"
      ]
     },
     "execution_count": 2,
     "metadata": {},
     "output_type": "execute_result"
    }
   ],
   "source": [
    "using JuMP, HiGHS\n",
    "m = Model(HiGHS.Optimizer)\n",
    "set_silent(m)\n",
    "\n",
    "price     = 3.5e3                       # price at which we can sell a single computer \n",
    "                                        # (regardless of where it is produced)\n",
    "cap       = 20000                       # maximum computers that can be sold per year\n",
    "\n",
    "capacity  = [10000, 8000, 9000, 6000]   # production capacity for each plant\n",
    "fixedcost = [9e6, 5e6, 3e6, 1e6]        # fixed cost for each plant\n",
    "itemcost  = [1e3, 1.7e3, 2.3e3, 2.9e3]  # cost per computer for each factory\n",
    "\n",
    "\n",
    "# insert your code here, with integer variable vector z and real variable vector x\n",
    "@variable(m, z[1:4], Bin) # will the plant be open or closed\n",
    "@variable(m, x[1:4] >= 0) # number of computers produced at each plant\n",
    "\n",
    "@constraint(m, sum(x) <= 20000)\n",
    "for i in 1:4\n",
    "    @constraint(m, x[i] <= capacity[i])\n",
    "    @constraint(m, x[i] <= cap*z[i])\n",
    "end\n",
    "\n",
    "@objective(m, Max, sum(x)*price - sum(x[i]*itemcost[i] for i in 1:4) - sum(z[i]*fixedcost[i] for i in 1:4) )\n",
    "\n",
    "optimize!(m)\n",
    "println(\"The maximal profit is: \", objective_value(m))\n",
    "println(\"Here is a tally of factory number, whether it's open or not, and how many computers it should produce.\")\n",
    "value.([1:4 z x])"
   ]
  },
  {
   "cell_type": "markdown",
   "metadata": {},
   "source": [
    "# 3. ABC Investments\n",
    "\n",
    "ABC Inc. is considering several investment options.  Each option has a minimum investment required as well as a maximum investment allowed. These restrictions, along with the expected return are summarized in the following table (figures are in millions of dollars):\n",
    "\n",
    "|Option | Minimum investment | Maximum investment | Expected return (%)  |\n",
    "|:-----:|:------------------:|:------------------:|:--------------------:|\n",
    "|  1    |      3             |      27            |     13               |\n",
    "|  2    |      2             |      12            |      9               |\n",
    "|  3    |      9             |      35            |     17               |\n",
    "|  4    |      5             |      15            |     10               |\n",
    "|  5    |     12             |      46            |     22               |\n",
    "|  6    |      4             |      18            |     12               |\n",
    "\n",
    "Because of the high-risk nature of Option 5, company policy requires that the total amount invested in Option 5 be no more that the combined amount invested in Options 2, 4 and 6.  In addition, if an investment is made in Option 3, it is required that at least a minimum investment be made in Option 6.  ABC has \\$80 million to invest and obviously wants to maximize its total expected return on investment.  Which options should ABC invest in, and how much should be invested?"
   ]
  },
  {
   "cell_type": "code",
   "execution_count": 3,
   "metadata": {},
   "outputs": [
    {
     "name": "stdout",
     "output_type": "stream",
     "text": [
      "The maximum return on investment (net profit) is: $13.5 million.\n",
      "This is an average return of: 16.875%\n",
      "Here is a tally of each investment, whether we invest or not, and how much we invest (in millions of $).\n"
     ]
    },
    {
     "data": {
      "text/plain": [
       "6×3 Matrix{Float64}:\n",
       " 1.0  0.0   0.0\n",
       " 2.0  0.0   0.0\n",
       " 3.0  1.0  35.0\n",
       " 4.0  1.0   5.0\n",
       " 5.0  1.0  22.5\n",
       " 6.0  1.0  17.5"
      ]
     },
     "execution_count": 3,
     "metadata": {},
     "output_type": "execute_result"
    }
   ],
   "source": [
    "using JuMP, HiGHS\n",
    "m = Model(HiGHS.Optimizer)\n",
    "set_silent(m)\n",
    "\n",
    "lows  = [  3,  2,  9,  5, 12,  4 ]  # minimum investment\n",
    "highs = [ 27, 12, 35, 15, 46, 18 ]  # maximum investment\n",
    "ret   = [ 13,  9, 17, 10, 22, 12 ]  # expected return\n",
    "\n",
    "money = 80\n",
    "\n",
    "@variable(m, z[1:6], Bin)\n",
    "@variable(m, invest[1:6] >= 0)\n",
    "\n",
    "@constraint(m, sum(invest) <= money)\n",
    "@constraint(m, invest[5] <= invest[2] + invest[4] + invest[6]) \n",
    "@constraint(m, invest[6] >= z[3]*lows[6]) \n",
    "for i in 1:6\n",
    "    @constraint(m, invest[i] >= z[i]*lows[i])\n",
    "    @constraint(m, invest[i] <= z[i]*highs[i])\n",
    "end\n",
    "\n",
    "@objective(m, Max, sum(ret[i]*invest[i]/100 for i in 1:6))\n",
    "optimize!(m)\n",
    "\n",
    "# Check these numbers\n",
    "\n",
    "println(\"The maximum return on investment (net profit) is: \\$\", objective_value(m), \" million.\")\n",
    "println(\"This is an average return of: \", 100*objective_value(m)/value(sum(invest)), \"%\")\n",
    "println(\"Here is a tally of each investment, whether we invest or not, and how much we invest (in millions of \\$).\")\n",
    "value.([1:6 z invest])"
   ]
  },
  {
   "cell_type": "markdown",
   "metadata": {},
   "source": [
    "# 4. Paint production\n",
    "\n",
    "As part of its weekly production, a paint company produces five batches of paints, always the same, for some big clients who have a stable demand.  Every paint batch is produced in a single production process, all in the same blender that needs to be cleaned between each batch.  The durations of blending paint batches 1 to 5 are 40, 35, 45, 32 and 50 minutes respectively.  The cleaning times depend of the colors and the paint types.  For example, a long cleaning period is required if an oil-based paint is produced after a water-based paint, or to produce white paint after a dark color.  The times are given in minutes in the following matrix $A$ where $A_{ij}$ denotes the cleaning time after batch $i$ if it is followed by batch $j$.\n",
    "\n",
    "$$\n",
    "A = \\begin{bmatrix}\n",
    " 0&11& 7&13&11 \\\\\n",
    " 5& 0&13&15&15 \\\\\n",
    "13&15& 0&23&11 \\\\\n",
    " 9&13& 5& 0& 3 \\\\\n",
    " 3& 7& 7& 7& 0\n",
    "\\end{bmatrix}\n",
    "$$\n",
    "\n",
    "Since the company has other activities, it wishes to deal with this weekly production in the shortest possible time (blending and cleaning).  What is the corresponding order of paint batches?  The order will be applied every week, so the cleaning time between the last batch of one week and the first of the following week needs to be accounted for in the total duration of cleaning.\n",
    "                "
   ]
  },
  {
   "cell_type": "code",
   "execution_count": 4,
   "metadata": {},
   "outputs": [
    {
     "data": {
      "text/plain": [
       "getAllSubtours (generic function with 1 method)"
      ]
     },
     "execution_count": 4,
     "metadata": {},
     "output_type": "execute_result"
    }
   ],
   "source": [
    "# HELPER FUNCTION: returns the cycle containing the city START.\n",
    "batches = 1:5\n",
    "\n",
    "function getSubtour(x,start)\n",
    "    subtour = [start]\n",
    "    while true\n",
    "        j = subtour[end]\n",
    "        for k in batches\n",
    "            if x[k,j] == 1\n",
    "                push!(subtour,k)\n",
    "                break\n",
    "            end\n",
    "        end\n",
    "        if subtour[end] == start\n",
    "            break\n",
    "        end\n",
    "    end\n",
    "    return subtour\n",
    "end\n",
    "\n",
    "# HELPER FUNCTION: returns a list of all cycles\n",
    "function getAllSubtours(x)\n",
    "    nodesRemaining = batches\n",
    "    subtours = []\n",
    "    while length(nodesRemaining) > 0\n",
    "        subtour = getSubtour(x,nodesRemaining[1])\n",
    "        push!(subtours, subtour)\n",
    "        nodesRemaining = setdiff(nodesRemaining,subtour)\n",
    "    end\n",
    "    return subtours\n",
    "end\n"
   ]
  },
  {
   "cell_type": "code",
   "execution_count": 5,
   "metadata": {},
   "outputs": [
    {
     "name": "stdout",
     "output_type": "stream",
     "text": [
      "Tour length: 37.0\n"
     ]
    },
    {
     "data": {
      "text/plain": [
       "2-element Vector{Any}:\n",
       " [1, 2, 3, 1]\n",
       " [4, 5, 4]"
      ]
     },
     "metadata": {},
     "output_type": "display_data"
    },
    {
     "name": "stdout",
     "output_type": "stream",
     "text": [
      "Tour length: 39.0\n"
     ]
    },
    {
     "data": {
      "text/plain": [
       "2-element Vector{Any}:\n",
       " [1, 2, 1]\n",
       " [3, 4, 5, 3]"
      ]
     },
     "metadata": {},
     "output_type": "display_data"
    },
    {
     "name": "stdout",
     "output_type": "stream",
     "text": [
      "Tour length: 41.0\n"
     ]
    },
    {
     "data": {
      "text/plain": [
       "1-element Vector{Any}:\n",
       " [1, 2, 5, 3, 4, 1]"
      ]
     },
     "metadata": {},
     "output_type": "display_data"
    },
    {
     "name": "stdout",
     "output_type": "stream",
     "text": [
      "(The blends go in the reverse direction of the array outputted above)\n",
      "\n",
      "SOLVED!\n",
      "\n",
      " blend 1 is followed by blend 4 requiring cleanup time 13\n",
      " blend 2 is followed by blend 1 requiring cleanup time 5\n",
      " blend 3 is followed by blend 5 requiring cleanup time 11\n",
      " blend 4 is followed by blend 3 requiring cleanup time 5\n",
      " blend 5 is followed by blend 2 requiring cleanup time 7\n",
      "and the minimum cleanup time is: 41.0 min, (plus 202 min of blending)\n"
     ]
    }
   ],
   "source": [
    "#(Hint: This problem is a nonsymmetric traveling salesman problem — “nonsymmetric” because the\n",
    "# distance between nodes i and j differs according to the direction of travel.)\n",
    "# 2 of 2\n",
    "\n",
    "\n",
    "# A[i,j] is the time it takes to clean after batch i if followed by batch j\n",
    "A = [  0  11   7  13  11\n",
    "       5   0  13  15  15\n",
    "      13  15   0  23  11\n",
    "       9  13   5   0   3\n",
    "       3   7   7   7   0 ]\n",
    "\n",
    "# time it takes to blend a particular batch. \n",
    "b = [ 40, 35, 45, 32, 50 ]\n",
    "\n",
    "using JuMP, HiGHS\n",
    "m = Model(HiGHS.Optimizer)\n",
    "set_silent(m)\n",
    "\n",
    "n = length(b)  # number of paints\n",
    "\n",
    "# YOUR CODE HERE\n",
    "@variable(m, x[1:n,1:n], Bin)                                       # must formulate as IP this time\n",
    "@constraint(m, c1[j in 1:n], sum( x[i,j] for i in 1:n ) == 1)     # one out-edge\n",
    "@constraint(m, c2[i in 1:n], sum( x[i,j] for j in 1:n ) == 1)     # one in-edge\n",
    "@constraint(m, c3[i in 1:n], x[i,i] == 0 )                        # no self-loops\n",
    "@objective(m, Min, sum( x[i,j]*A[i,j] for i in 1:n, j in 1:n ))   # minimize total cost\n",
    "\n",
    "sols = []\n",
    "\n",
    "for iters = 1:30\n",
    "    optimize!(m)\n",
    "    println(\"Tour length: \", objective_value(m))\n",
    "    xx = value.(x)\n",
    "    push!(sols,xx)\n",
    "    subtours = getAllSubtours(xx)  # get all the subtours\n",
    "    display(subtours)\n",
    "    len = length(subtours)\n",
    "    if len == 1  # solution is just a single tour!\n",
    "        println(\"(The blends go in the reverse direction of the array outputted above)\\n\")\n",
    "        println(\"SOLVED!\\n\")\n",
    "        break\n",
    "    else\n",
    "        for subtour in subtours\n",
    "            L = length(subtour)\n",
    "            @constraint(m, sum( x[subtour[k+1],subtour[k]] for k = 1:L-1 ) <= L-2)\n",
    "            @constraint(m, sum( x[subtour[k],subtour[k+1]] for k = 1:L-1 ) <= L-2)\n",
    "        end\n",
    "    end\n",
    "end\n",
    "X = value.(x);\n",
    "for i = 1:n\n",
    "    for j=1:n\n",
    "        if (X[i,j] >= .99)\n",
    "            println(\" blend \",i,\" is followed by blend \",j,\" requiring cleanup time \",A[i,j])\n",
    "        end\n",
    "    end\n",
    "end\n",
    "\n",
    "println(\"and the minimum cleanup time is: \", objective_value(m), \" min, (plus \", sum(b), \" min of blending)\")"
   ]
  },
  {
   "cell_type": "code",
   "execution_count": null,
   "metadata": {},
   "outputs": [],
   "source": []
  }
 ],
 "metadata": {
  "kernelspec": {
   "display_name": "Julia 1.8.5",
   "language": "julia",
   "name": "julia-1.8"
  },
  "language_info": {
   "file_extension": ".jl",
   "mimetype": "application/julia",
   "name": "julia",
   "version": "1.8.5"
  }
 },
 "nbformat": 4,
 "nbformat_minor": 1
}
