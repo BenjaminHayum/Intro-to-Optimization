{
 "cells": [
  {
   "cell_type": "markdown",
   "metadata": {},
   "source": [
    "# Largest inscribed polygon\n",
    "\n",
    "What is the polygon ($n$ sides) of maximal area that can be completely contained inside a circle of radius 1?"
   ]
  },
  {
   "cell_type": "markdown",
   "metadata": {},
   "source": [
    "### Model 1: polar coordinates"
   ]
  },
  {
   "cell_type": "code",
   "execution_count": 1,
   "metadata": {},
   "outputs": [
    {
     "name": "stderr",
     "output_type": "stream",
     "text": [
      "\u001b[32m\u001b[1m    Updating\u001b[22m\u001b[39m registry at `~/.julia/registries/General.toml`\n",
      "\u001b[32m\u001b[1m   Resolving\u001b[22m\u001b[39m package versions...\n",
      "\u001b[32m\u001b[1m  No Changes\u001b[22m\u001b[39m to `~/.julia/environments/v1.8/Project.toml`\n",
      "\u001b[32m\u001b[1m  No Changes\u001b[22m\u001b[39m to `~/.julia/environments/v1.8/Manifest.toml`\n"
     ]
    }
   ],
   "source": [
    "using Pkg\n",
    "Pkg.add(\"Ipopt\")"
   ]
  },
  {
   "cell_type": "code",
   "execution_count": 3,
   "metadata": {},
   "outputs": [
    {
     "name": "stdout",
     "output_type": "stream",
     "text": [
      "\n",
      "******************************************************************************\n",
      "This program contains Ipopt, a library for large-scale nonlinear optimization.\n",
      " Ipopt is released as open source code under the Eclipse Public License (EPL).\n",
      "         For more information visit https://github.com/coin-or/Ipopt\n",
      "******************************************************************************\n",
      "\n",
      "This is Ipopt version 3.14.10, running with linear solver MUMPS 5.5.1.\n",
      "\n",
      "Number of nonzeros in equality constraint Jacobian...:        1\n",
      "Number of nonzeros in inequality constraint Jacobian.:        4\n",
      "Number of nonzeros in Lagrangian Hessian.............:       21\n",
      "\n",
      "Total number of variables............................:        6\n",
      "                     variables with only lower bounds:        0\n",
      "                variables with lower and upper bounds:        3\n",
      "                     variables with only upper bounds:        0\n",
      "Total number of equality constraints.................:        1\n",
      "Total number of inequality constraints...............:        2\n",
      "        inequality constraints with only lower bounds:        2\n",
      "   inequality constraints with lower and upper bounds:        0\n",
      "        inequality constraints with only upper bounds:        0\n",
      "\n",
      "iter    objective    inf_pr   inf_du lg(mu)  ||d||  lg(rg) alpha_du alpha_pr  ls\n",
      "   0  0.0000000e+00 0.00e+00 6.00e-01  -1.0 0.00e+00    -  0.00e+00 0.00e+00   0\n",
      "   1  1.5779530e-08 0.00e+00 1.00e-02  -1.7 6.00e-02    -  9.90e-01 1.00e+00f  1\n",
      "   2  3.3735615e-04 0.00e+00 1.49e-02  -2.5 5.67e-01    -  9.09e-01 1.00e+00f  1\n",
      "   3  9.8834319e-04 3.01e-36 2.51e-02  -3.8 2.51e-02   0.0 1.00e+00 1.00e+00f  1\n",
      "   4  3.3007952e-03 2.32e-34 2.89e-02  -3.8 8.66e-02  -0.5 1.00e+00 1.00e+00f  1\n",
      "   5  4.5728871e-03 1.50e-35 3.28e-02  -3.8 3.69e-02  -0.1 1.00e+00 1.00e+00f  1\n",
      "   6  5.1263225e-03 2.11e-35 3.40e-02  -3.8 1.44e-02   0.4 1.00e+00 1.00e+00f  1\n",
      "   7  7.3680088e-03 5.12e-35 3.95e-02  -3.8 4.99e-02  -0.1 1.00e+00 1.00e+00f  1\n",
      "   8  8.3952028e-03 9.03e-36 4.18e-02  -3.8 1.99e-02   0.3 1.00e+00 1.00e+00f  1\n",
      "   9  1.3045541e-02 3.31e-35 5.15e-02  -3.8 7.29e-02  -0.2 1.00e+00 1.00e+00f  1\n",
      "iter    objective    inf_pr   inf_du lg(mu)  ||d||  lg(rg) alpha_du alpha_pr  ls\n",
      "  10  1.5372230e-02 8.13e-35 5.58e-02  -3.8 2.98e-02   0.3 1.00e+00 1.00e+00f  1\n",
      "  11  3.0650159e-02 8.13e-35 7.77e-02  -3.8 1.21e-01  -0.2 1.00e+00 1.00e+00f  1\n",
      "  12  4.1656564e-02 9.93e-35 9.11e-02  -3.8 5.42e-02   0.2 1.00e+00 1.00e+00f  1\n",
      "  13  8.2243788e-02 5.49e-34 1.64e-01  -3.8 1.06e+00  -0.3 3.31e-01 1.40e-01f  1\n",
      "  14  1.3713818e-01 7.41e-34 2.09e-01  -3.8 1.39e-01   0.2 1.00e+00 1.00e+00f  1\n",
      "  15  2.8974266e-01 3.89e-33 3.29e-01  -3.8 1.09e+01  -0.3 5.78e-02 2.13e-02f  1\n",
      "  16  3.5043461e-01 2.02e-33 3.46e-01  -3.8 2.84e-01   0.1 1.00e+00 4.46e-01f  1\n",
      "  17  4.9030232e-01 4.72e-30 1.01e+00  -3.8 3.29e+00    -  7.65e-02 7.47e-01f  1\n",
      "  18  5.0691672e-01 4.20e-30 6.86e-01  -3.8 2.53e+00    -  2.14e-01 1.09e-01f  1\n",
      "  19  1.2785165e+00 2.34e-30 8.00e-01  -3.8 2.22e+00  -0.4 1.00e+00 4.47e-01f  1\n",
      "iter    objective    inf_pr   inf_du lg(mu)  ||d||  lg(rg) alpha_du alpha_pr  ls\n",
      "  20  1.2784003e+00 2.05e-30 1.39e-01  -3.8 2.18e-01    -  1.00e+00 1.25e-01f  4\n",
      "  21  1.2986130e+00 1.61e-33 1.42e-02  -3.8 2.11e-01    -  1.00e+00 1.00e+00f  1\n",
      "  22  1.2985871e+00 3.14e-34 6.54e-06  -3.8 4.46e-03    -  1.00e+00 1.00e+00f  1\n",
      "  23  1.2990326e+00 6.83e-36 2.29e-08  -5.7 1.72e-04    -  1.00e+00 1.00e+00f  1\n",
      "  24  1.2990381e+00 9.88e-39 3.49e-12  -8.6 2.13e-06    -  1.00e+00 1.00e+00f  1\n",
      "\n",
      "Number of Iterations....: 24\n",
      "\n",
      "                                   (scaled)                 (unscaled)\n",
      "Objective...............:  -1.2990381241398588e+00    1.2990381241398588e+00\n",
      "Dual infeasibility......:   3.4916084120581642e-12    3.4916084120581642e-12\n",
      "Constraint violation....:   9.8776477776408112e-39    9.8776477776408112e-39\n",
      "Variable bound violation:   7.1073182894565434e-09    7.1073182894565434e-09\n",
      "Complementarity.........:   2.5064855158149136e-09    2.5064855158149136e-09\n",
      "Overall NLP error.......:   2.5064855158149136e-09    2.5064855158149136e-09\n",
      "\n",
      "\n",
      "Number of objective function evaluations             = 29\n",
      "Number of objective gradient evaluations             = 25\n",
      "Number of equality constraint evaluations            = 29\n",
      "Number of inequality constraint evaluations          = 29\n",
      "Number of equality constraint Jacobian evaluations   = 1\n",
      "Number of inequality constraint Jacobian evaluations = 1\n",
      "Number of Lagrangian Hessian evaluations             = 24\n",
      "Total seconds in IPOPT                               = 2.183\n",
      "\n",
      "EXIT: Optimal Solution Found.\n",
      "LOCALLY_SOLVED\n",
      "Optimal area: 1.2990381241398588\n"
     ]
    },
    {
     "data": {
      "text/plain": [
       "3×2 Matrix{Float64}:\n",
       " 1.0    5.65948e-37\n",
       " 1.0  120.0\n",
       " 1.0  240.0"
      ]
     },
     "execution_count": 3,
     "metadata": {},
     "output_type": "execute_result"
    }
   ],
   "source": [
    "using JuMP, PyPlot, Ipopt\n",
    "n = 3\n",
    "\n",
    "m = Model(Ipopt.Optimizer)\n",
    "@variable(m, 0 <= r[1:n] <= 1 )\n",
    "@variable(m, θ[1:n]  )\n",
    "\n",
    "#@constraint(m, θ[1] == 0)\n",
    "\n",
    "# impose an order to the angles\n",
    "@constraint(m, θ[1] == 0)\n",
    "for i = 1:n-1\n",
    "    @constraint(m, θ[i+1] >= θ[i])\n",
    "end\n",
    "\n",
    "@NLobjective(m, Max, 0.5*sum( r[i]*r[i+1]*sin(θ[i+1]-θ[i]) for i=1:n-1) + 0.5*r[1]*r[n]*sin(θ[1]-θ[n]))\n",
    "optimize!(m)\n",
    "\n",
    "println(termination_status(m))\n",
    "println(\"Optimal area: \", objective_value(m))\n",
    "value.([r θ*180/π])"
   ]
  },
  {
   "cell_type": "code",
   "execution_count": 4,
   "metadata": {},
   "outputs": [
    {
     "data": {
      "image/png": "[encoded data removed]",
      "text/plain": [
       "Figure(PyObject <Figure size 500x500 with 1 Axes>)"
      ]
     },
     "metadata": {},
     "output_type": "display_data"
    }
   ],
   "source": [
    "ropt = value.([r; r[1]])\n",
    "topt = value.([θ; θ[1]])\n",
    "# t = linspace(0,2π,100)\n",
    "t = range(0,stop=2π,length=100) \n",
    "figure(figsize=[5,5])\n",
    "plot( cos.(t), sin.(t), \"b-\" )\n",
    "plot( ropt.*cos.(topt), ropt.*sin.(topt), \"r.-\" )\n",
    "axis(\"equal\");axis(\"off\");tight_layout();"
   ]
  },
  {
   "cell_type": "markdown",
   "metadata": {},
   "source": [
    "### Model 2: relative polar coordinates"
   ]
  },
  {
   "cell_type": "code",
   "execution_count": 5,
   "metadata": {},
   "outputs": [
    {
     "name": "stdout",
     "output_type": "stream",
     "text": [
      "This is Ipopt version 3.14.10, running with linear solver MUMPS 5.5.1.\n",
      "\n",
      "Number of nonzeros in equality constraint Jacobian...:       13\n",
      "Number of nonzeros in inequality constraint Jacobian.:        0\n",
      "Number of nonzeros in Lagrangian Hessian.............:       65\n",
      "\n",
      "Total number of variables............................:       26\n",
      "                     variables with only lower bounds:       13\n",
      "                variables with lower and upper bounds:       13\n",
      "                     variables with only upper bounds:        0\n",
      "Total number of equality constraints.................:        1\n",
      "Total number of inequality constraints...............:        0\n",
      "        inequality constraints with only lower bounds:        0\n",
      "   inequality constraints with lower and upper bounds:        0\n",
      "        inequality constraints with only upper bounds:        0\n",
      "\n",
      "iter    objective    inf_pr   inf_du lg(mu)  ||d||  lg(rg) alpha_du alpha_pr  ls\n",
      "   0  6.4998722e-06 6.15e+00 1.00e-04  -1.0 0.00e+00    -  0.00e+00 0.00e+00   0\n",
      "   1  3.5271008e-02 1.78e-15 3.73e+01  -1.0 4.73e-01    -  2.58e-02 1.00e+00f  1\n",
      "   2  1.1738228e-01 1.78e-15 3.51e-03  -1.0 8.91e-02    -  1.00e+00 1.00e+00f  1\n",
      "   3  6.2602198e-01 8.88e-16 1.39e-01  -2.5 2.58e-01    -  4.56e-01 1.00e+00f  1\n",
      "   4  1.5627654e+00 1.78e-15 2.64e-01  -2.5 2.64e-01   0.0 1.00e+00 1.00e+00f  1\n",
      "   5  2.1900388e+00 0.00e+00 3.53e-01  -2.5 1.32e-01   0.4 1.00e+00 1.00e+00f  1\n",
      "   6  3.0181633e+00 0.00e+00 2.87e-01  -2.5 5.16e-01  -0.1 1.00e+00 2.87e-01f  1\n",
      "   7  2.9297504e+00 8.88e-16 9.63e-05  -2.5 1.47e-02    -  1.00e+00 1.00e+00f  1\n",
      "   8  3.0195669e+00 8.88e-16 9.94e-05  -3.8 1.50e-02    -  1.00e+00 1.00e+00f  1\n",
      "   9  3.0206766e+00 0.00e+00 1.50e-08  -5.7 1.84e-04    -  1.00e+00 1.00e+00f  1\n",
      "iter    objective    inf_pr   inf_du lg(mu)  ||d||  lg(rg) alpha_du alpha_pr  ls\n",
      "  10  3.0207006e+00 0.00e+00 7.01e-12  -8.6 3.97e-06    -  1.00e+00 1.00e+00f  1\n",
      "\n",
      "Number of Iterations....: 10\n",
      "\n",
      "                                   (scaled)                 (unscaled)\n",
      "Objective...............:  -3.0207006461229908e+00    3.0207006461229908e+00\n",
      "Dual infeasibility......:   7.0142967108032363e-12    7.0142967108032363e-12\n",
      "Constraint violation....:   0.0000000000000000e+00    0.0000000000000000e+00\n",
      "Variable bound violation:   4.6079533522203064e-09    4.6079533522203064e-09\n",
      "Complementarity.........:   2.5059035596814911e-09    2.5059035596814911e-09\n",
      "Overall NLP error.......:   2.5059035596814911e-09    2.5059035596814911e-09\n",
      "\n",
      "\n",
      "Number of objective function evaluations             = 11\n",
      "Number of objective gradient evaluations             = 11\n",
      "Number of equality constraint evaluations            = 11\n",
      "Number of inequality constraint evaluations          = 0\n",
      "Number of equality constraint Jacobian evaluations   = 1\n",
      "Number of inequality constraint Jacobian evaluations = 0\n",
      "Number of Lagrangian Hessian evaluations             = 10\n",
      "Total seconds in IPOPT                               = 0.383\n",
      "\n",
      "EXIT: Optimal Solution Found.\n",
      "LOCALLY_SOLVED\n",
      "Optimal area: 3.020700646122991\n"
     ]
    },
    {
     "data": {
      "text/plain": [
       "13×2 Matrix{Float64}:\n",
       " 1.0  27.6923\n",
       " 1.0  27.6923\n",
       " 1.0  27.6923\n",
       " 1.0  27.6923\n",
       " 1.0  27.6923\n",
       " 1.0  27.6923\n",
       " 1.0  27.6923\n",
       " 1.0  27.6923\n",
       " 1.0  27.6923\n",
       " 1.0  27.6923\n",
       " 1.0  27.6923\n",
       " 1.0  27.6923\n",
       " 1.0  27.6923"
      ]
     },
     "execution_count": 5,
     "metadata": {},
     "output_type": "execute_result"
    }
   ],
   "source": [
    "using JuMP, PyPlot, Ipopt\n",
    "n = 13\n",
    "\n",
    "m = Model(Ipopt.Optimizer)\n",
    "@variable(m, 0 <= r[1:n] <= 1 )\n",
    "@variable(m, α[1:n] >= 0 )\n",
    "\n",
    "# angles sum to 2π\n",
    "@constraint(m, sum(α) == 2π)\n",
    "\n",
    "@NLobjective(m, Max, 0.5*sum(r[i]*r[i+1]*sin(α[i]) for i=1:n-1) + 0.5*r[1]*r[n]*sin(α[n]) )\n",
    "\n",
    "optimize!(m)\n",
    "\n",
    "println(termination_status(m))\n",
    "println(\"Optimal area: \", objective_value(m))\n",
    "value.([r α*180/π])"
   ]
  },
  {
   "cell_type": "markdown",
   "metadata": {},
   "source": [
    "### Model 3: rectangular coordinates"
   ]
  },
  {
   "cell_type": "code",
   "execution_count": 6,
   "metadata": {},
   "outputs": [
    {
     "name": "stdout",
     "output_type": "stream",
     "text": [
      "This is Ipopt version 3.14.10, running with linear solver MUMPS 5.5.1.\n",
      "\n",
      "Number of nonzeros in equality constraint Jacobian...:        0\n",
      "Number of nonzeros in inequality constraint Jacobian.:       36\n",
      "Number of nonzeros in Lagrangian Hessian.............:       72\n",
      "\n",
      "Total number of variables............................:       12\n",
      "                     variables with only lower bounds:        0\n",
      "                variables with lower and upper bounds:        0\n",
      "                     variables with only upper bounds:        0\n",
      "Total number of equality constraints.................:        0\n",
      "Total number of inequality constraints...............:       12\n",
      "        inequality constraints with only lower bounds:        6\n",
      "   inequality constraints with lower and upper bounds:        0\n",
      "        inequality constraints with only upper bounds:        6\n",
      "\n",
      "iter    objective    inf_pr   inf_du lg(mu)  ||d||  lg(rg) alpha_du alpha_pr  ls\n",
      "   0  3.5861619e-02 3.26e-01 9.20e-01  -1.0 0.00e+00    -  0.00e+00 0.00e+00   0\n",
      "   1  4.0730598e-02 8.58e-02 4.02e-01  -1.7 3.29e-01    -  6.62e-01 8.19e-01h  1\n",
      "   2  9.7747358e-02 1.87e-02 9.61e-01  -1.7 4.37e-01   0.0 8.95e-01 1.00e+00h  1\n",
      "   3  4.2385181e-01 0.00e+00 3.22e+00  -1.7 4.59e-01   0.4 3.38e-01 1.00e+00h  1\n",
      "   4  3.9034031e-01 0.00e+00 2.04e+00  -1.7 1.59e-01   0.9 6.00e-01 1.00e+00h  1\n",
      "   5  6.0995309e-01 0.00e+00 4.52e-01  -1.7 1.23e-01   0.4 8.81e-01 1.00e+00f  1\n",
      "   6  1.6579373e+00 1.15e-01 5.39e-01  -1.7 4.93e-01  -0.1 5.00e-01 1.00e+00f  1\n",
      "   7  1.6437696e+00 0.00e+00 4.23e-01  -1.7 2.00e-01   0.3 8.39e-01 1.00e+00h  1\n",
      "   8  2.2286685e+00 2.69e-03 2.34e-01  -1.7 2.81e-01  -0.2 1.00e+00 1.00e+00f  1\n",
      "   9  2.5993264e+00 6.64e-02 1.62e-01  -1.7 6.97e-01  -0.6 7.04e-01 5.14e-01h  1\n",
      "iter    objective    inf_pr   inf_du lg(mu)  ||d||  lg(rg) alpha_du alpha_pr  ls\n",
      "  10  2.5775602e+00 0.00e+00 4.54e-02  -2.5 7.28e-02  -0.2 1.00e+00 1.00e+00h  1\n",
      "  11  2.6299257e+00 3.77e-02 7.57e-03  -2.5 1.75e-01    -  1.00e+00 1.00e+00h  1\n",
      "  12  2.5816683e+00 0.00e+00 4.15e-03  -2.5 2.11e-02  -0.7 1.00e+00 1.00e+00h  1\n",
      "  13  2.5970552e+00 0.00e+00 1.60e-05  -3.8 6.39e-03    -  1.00e+00 1.00e+00h  1\n",
      "  14  2.5980648e+00 0.00e+00 2.85e-05  -5.7 4.11e-04  -1.2 1.00e+00 1.00e+00h  1\n",
      "  15  2.5980652e+00 0.00e+00 8.27e-08  -5.7 3.58e-06  -1.6 1.00e+00 1.00e+00h  1\n",
      "  16  2.5980762e+00 0.00e+00 3.28e-08  -8.6 4.25e-06  -2.1 1.00e+00 1.00e+00h  1\n",
      "  17  2.5980762e+00 0.00e+00 1.25e-11  -8.6 4.86e-09  -2.6 1.00e+00 1.00e+00h  1\n",
      "\n",
      "Number of Iterations....: 17\n",
      "\n",
      "                                   (scaled)                 (unscaled)\n",
      "Objective...............:  -2.5980762222986566e+00    2.5980762222986566e+00\n",
      "Dual infeasibility......:   1.2486428557778595e-11    1.2486428557778595e-11\n",
      "Constraint violation....:   0.0000000000000000e+00    0.0000000000000000e+00\n",
      "Variable bound violation:   0.0000000000000000e+00    0.0000000000000000e+00\n",
      "Complementarity.........:   2.5059035597050319e-09    2.5059035597050319e-09\n",
      "Overall NLP error.......:   2.5059035597050319e-09    2.5059035597050319e-09\n",
      "\n",
      "\n",
      "Number of objective function evaluations             = 18\n",
      "Number of objective gradient evaluations             = 18\n",
      "Number of equality constraint evaluations            = 0\n",
      "Number of inequality constraint evaluations          = 18\n",
      "Number of equality constraint Jacobian evaluations   = 0\n",
      "Number of inequality constraint Jacobian evaluations = 18\n",
      "Number of Lagrangian Hessian evaluations             = 17\n",
      "Total seconds in IPOPT                               = 0.338\n",
      "\n",
      "EXIT: Optimal Solution Found.\n",
      "LOCALLY_SOLVED\n",
      "Optimal area: 2.5980762222986566\n"
     ]
    },
    {
     "data": {
      "text/plain": [
       "6×2 Matrix{Float64}:\n",
       "  0.792007  -0.610512\n",
       "  0.924723   0.380642\n",
       "  0.132716   0.991154\n",
       " -0.792007   0.610512\n",
       " -0.924723  -0.380642\n",
       " -0.132716  -0.991154"
      ]
     },
     "execution_count": 6,
     "metadata": {},
     "output_type": "execute_result"
    }
   ],
   "source": [
    "# rectangular coordinates\n",
    "\n",
    "using JuMP, Ipopt, Random\n",
    "n = 6\n",
    "m = Model(Ipopt.Optimizer)\n",
    "\n",
    "@variable(m, x[1:n] )\n",
    "@variable(m, y[1:n] )\n",
    "   \n",
    "@NLobjective(m, Max, 0.5*sum( x[i]*y[i+1]-y[i]*x[i+1] for i=1:n-1)  +  0.5*(x[n]*y[1]-y[n]*x[1]) )\n",
    "\n",
    "for i = 1:n\n",
    "    @constraint(m, x[i]^2 + y[i]^2 <= 1)\n",
    "end\n",
    "\n",
    "# add ordering constraint to the vertices\n",
    "for i = 1:n-1\n",
    "    @NLconstraint(m, x[i]*y[i+1]-y[i]*x[i+1] >= 0 )\n",
    "end\n",
    "@NLconstraint(m, x[n]*y[1]-y[n]*x[1] >= 0 )\n",
    "\n",
    "Random.seed!(2367877)\n",
    "\n",
    "set_start_value.(x,rand(n))\n",
    "set_start_value.(y,rand(n))\n",
    "\n",
    "# setvalue(x,rand(n))\n",
    "# setvalue(y,rand(n))\n",
    "\n",
    "optimize!(m)\n",
    "println(termination_status(m))\n",
    "println(\"Optimal area: \", objective_value(m))\n",
    "value.([x y])"
   ]
  },
  {
   "cell_type": "code",
   "execution_count": 7,
   "metadata": {},
   "outputs": [
    {
     "data": {
      "image/png": "[encoded data removed]",
      "text/plain": [
       "Figure(PyObject <Figure size 500x500 with 1 Axes>)"
      ]
     },
     "metadata": {},
     "output_type": "display_data"
    }
   ],
   "source": [
    "using PyPlot\n",
    "xopt = value.([x; x[1]])\n",
    "yopt = value.([y; y[1]])\n",
    "t = range(0,stop=2π,length=100) \n",
    "figure(figsize=[5,5])\n",
    "plot( cos.(t), sin.(t), \"b-\" )\n",
    "plot( xopt, yopt, \"r.-\" )\n",
    "axis(\"equal\");axis(\"off\");"
   ]
  },
  {
   "cell_type": "code",
   "execution_count": 8,
   "metadata": {},
   "outputs": [
    {
     "name": "stdout",
     "output_type": "stream",
     "text": [
      "This is Ipopt version 3.14.10, running with linear solver MUMPS 5.5.1.\n",
      "\n",
      "Number of nonzeros in equality constraint Jacobian...:        0\n",
      "Number of nonzeros in inequality constraint Jacobian.:        0\n",
      "Number of nonzeros in Lagrangian Hessian.............:        1\n",
      "\n",
      "Total number of variables............................:        1\n",
      "                     variables with only lower bounds:        0\n",
      "                variables with lower and upper bounds:        0\n",
      "                     variables with only upper bounds:        0\n",
      "Total number of equality constraints.................:        0\n",
      "Total number of inequality constraints...............:        0\n",
      "        inequality constraints with only lower bounds:        0\n",
      "   inequality constraints with lower and upper bounds:        0\n",
      "        inequality constraints with only upper bounds:        0\n",
      "\n",
      "iter    objective    inf_pr   inf_du lg(mu)  ||d||  lg(rg) alpha_du alpha_pr  ls\n",
      "   0  1.0000000e-03 0.00e+00 3.00e-02  -1.0 0.00e+00    -  0.00e+00 0.00e+00   0\n",
      "   1  1.2500000e-04 0.00e+00 7.50e-03  -2.5 5.00e-02    -  1.00e+00 1.00e+00f  1\n",
      "   2  1.5625000e-05 0.00e+00 1.88e-03  -3.8 2.50e-02    -  1.00e+00 1.00e+00f  1\n",
      "   3  1.9531250e-06 0.00e+00 4.69e-04  -3.8 1.25e-02    -  1.00e+00 1.00e+00f  1\n",
      "   4  2.4414063e-07 0.00e+00 1.17e-04  -5.7 6.25e-03    -  1.00e+00 1.00e+00f  1\n",
      "   5  3.0517578e-08 0.00e+00 2.93e-05  -5.7 3.13e-03    -  1.00e+00 1.00e+00f  1\n",
      "   6  3.8146973e-09 0.00e+00 7.32e-06  -5.7 1.56e-03    -  1.00e+00 1.00e+00f  1\n",
      "   7  4.7683716e-10 0.00e+00 1.83e-06  -8.6 7.81e-04    -  1.00e+00 1.00e+00f  1\n",
      "   8  5.9604645e-11 0.00e+00 4.58e-07  -8.6 3.91e-04    -  1.00e+00 1.00e+00f  1\n",
      "   9  7.4505806e-12 0.00e+00 1.14e-07  -8.6 1.95e-04    -  1.00e+00 1.00e+00f  1\n",
      "iter    objective    inf_pr   inf_du lg(mu)  ||d||  lg(rg) alpha_du alpha_pr  ls\n",
      "  10  9.3132257e-13 0.00e+00 2.86e-08  -8.6 9.77e-05    -  1.00e+00 1.00e+00f  1\n",
      "  11  1.1641532e-13 0.00e+00 7.15e-09  -8.6 4.88e-05    -  1.00e+00 1.00e+00f  1\n",
      "\n",
      "Number of Iterations....: 11\n",
      "\n",
      "                                   (scaled)                 (unscaled)\n",
      "Objective...............:   1.1641532182693484e-13    1.1641532182693484e-13\n",
      "Dual infeasibility......:   7.1525573730468764e-09    7.1525573730468764e-09\n",
      "Constraint violation....:   0.0000000000000000e+00    0.0000000000000000e+00\n",
      "Variable bound violation:   0.0000000000000000e+00    0.0000000000000000e+00\n",
      "Complementarity.........:   0.0000000000000000e+00    0.0000000000000000e+00\n",
      "Overall NLP error.......:   7.1525573730468764e-09    7.1525573730468764e-09\n",
      "\n",
      "\n",
      "Number of objective function evaluations             = 12\n",
      "Number of objective gradient evaluations             = 12\n",
      "Number of equality constraint evaluations            = 0\n",
      "Number of inequality constraint evaluations          = 0\n",
      "Number of equality constraint Jacobian evaluations   = 0\n",
      "Number of inequality constraint Jacobian evaluations = 0\n",
      "Number of Lagrangian Hessian evaluations             = 11\n",
      "Total seconds in IPOPT                               = 0.004\n",
      "\n",
      "EXIT: Optimal Solution Found.\n",
      "LOCALLY_SOLVED\n"
     ]
    },
    {
     "data": {
      "text/plain": [
       "4.8828125e-5"
      ]
     },
     "execution_count": 8,
     "metadata": {},
     "output_type": "execute_result"
    }
   ],
   "source": [
    "using JuMP, Ipopt\n",
    "\n",
    "m = Model(Ipopt.Optimizer)\n",
    "@variable(m, x )\n",
    "@NLobjective(m, Min, x^3 )\n",
    "\n",
    "set_start_value.(x,.1)\n",
    "\n",
    "optimize!(m)\n",
    "println(termination_status(m))\n",
    "value.(x)"
   ]
  },
  {
   "cell_type": "code",
   "execution_count": null,
   "metadata": {
    "collapsed": true
   },
   "outputs": [],
   "source": []
  }
 ],
 "metadata": {
  "kernelspec": {
   "display_name": "Julia 1.8.5",
   "language": "julia",
   "name": "julia-1.8"
  },
  "language_info": {
   "file_extension": ".jl",
   "mimetype": "application/julia",
   "name": "julia",
   "version": "1.8.5"
  }
 },
 "nbformat": 4,
 "nbformat_minor": 1
}
