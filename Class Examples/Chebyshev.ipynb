{
 "cells": [
  {
   "cell_type": "markdown",
   "metadata": {},
   "source": [
    "# Chebyshev center\n",
    "\n",
    "Find the center and radius of the largest sphere that fits inside the polyhedron defined by the inequalities\n",
    "$$ \\left\\{ 2 x_1 - x_2 + 2 x_3 \\le 2,\\quad\n",
    "-x_1 + 2 x_2 + 4 x_3 \\le 16,\\quad\n",
    "x_1 + 2 x_2 - 2 x_3 \\le 8,\\quad\n",
    "x_1 \\ge 0,\\,\n",
    "x_2 \\ge 0,\\,\n",
    "x_3 \\ge 0 \\right\\}$$"
   ]
  },
  {
   "cell_type": "markdown",
   "metadata": {},
   "source": [
    "## Optimization problem formulation"
   ]
  },
  {
   "cell_type": "markdown",
   "metadata": {},
   "source": [
    "The Chebyshev center problem can be formulated as the following linear program:\n",
    "\n",
    "$\\max_{x,r} ~~r $\n",
    "\n",
    "subject to\n",
    "\n",
    "$ a_jx + ||a_j||r\\leq b_j\\quad$ for $j=1,...,6$ \n",
    "\n",
    "where the vectors $a$ are the normal vector for each hyperplane and $b$ is the constant on the right hand side.\n",
    "\n",
    "$a_1 = [ 2~~-\\!1~~2]$,\n",
    "\n",
    "$a_2 = [ -\\!1~~2~~4]$, \n",
    "\n",
    "$a_3 = [ 1~~2~~-\\!2]$, \n",
    "\n",
    "$a_4 = [ -\\!1~~0~~0]$, \n",
    "\n",
    "$a_5 = [ 0~~-\\!1~~0]$, \n",
    "\n",
    "$a_6 = [ 0~~0~~-\\!1]$, and\n",
    "\n",
    "$b = [2~~16~~8~~0~~0~~0]$."
   ]
  },
  {
   "cell_type": "markdown",
   "metadata": {},
   "source": [
    "## JuMP implementation"
   ]
  },
  {
   "cell_type": "code",
   "execution_count": 1,
   "metadata": {},
   "outputs": [
    {
     "name": "stderr",
     "output_type": "stream",
     "text": [
      "\u001b[32m\u001b[1m    Updating\u001b[22m\u001b[39m registry at `~/.julia/registries/General.toml`\n",
      "\u001b[32m\u001b[1m   Resolving\u001b[22m\u001b[39m package versions...\n",
      "\u001b[32m\u001b[1m    Updating\u001b[22m\u001b[39m `~/.julia/environments/v1.8/Project.toml`\n",
      " \u001b[90m [37e2e46d] \u001b[39m\u001b[92m+ LinearAlgebra\u001b[39m\n",
      "\u001b[32m\u001b[1m  No Changes\u001b[22m\u001b[39m to `~/.julia/environments/v1.8/Manifest.toml`\n"
     ]
    }
   ],
   "source": [
    "# If you haven't yet installed the linear algebra package, do the standard thing:\n",
    "using Pkg\n",
    "Pkg.add(\"LinearAlgebra\")"
   ]
  },
  {
   "cell_type": "code",
   "execution_count": 2,
   "metadata": {},
   "outputs": [
    {
     "name": "stdout",
     "output_type": "stream",
     "text": [
      "Running HiGHS 1.4.0 [date: 1970-01-01, git hash: bcf6c0b22]\n",
      "Copyright (c) 2022 ERGO-Code under MIT licence terms\n",
      "Presolving model\n",
      "6 rows, 4 cols, 18 nonzeros\n",
      "6 rows, 4 cols, 18 nonzeros\n",
      "Presolve : Reductions: rows 6(-0); columns 4(-0); elements 18(-0) - Not reduced\n",
      "Problem not reduced by presolve: solving the LP\n",
      "Using EKK dual simplex solver - serial\n",
      "  Iteration        Objective     Infeasibilities num(sum)\n",
      "          0    -9.9999824725e-01 Ph1: 6(13.5826); Du: 1(0.999998) 0s\n",
      "          6     7.5000000000e-01 Pr: 0(0) 0s\n",
      "Model   status      : Optimal\n",
      "Simplex   iterations: 6\n",
      "Objective value     :  7.5000000000e-01\n",
      "HiGHS run time      :          0.00\n",
      "HiGHS LP solver terminated with status OPTIMAL\n",
      "The coordinates of the Chebyshev center are: [0.7499999999999999, 3.2499999999999996, 0.75]\n",
      "The largest possible radius is: 0.7500000000000002\n"
     ]
    }
   ],
   "source": [
    "# Matrices A, b defining the inequalities (each row vector is a normal vector to a hyper plane!)\n",
    "A = [2 -1 2; -1 2 4; 1 2 -2; -1 0 0; 0 -1 0; 0 0 -1];\n",
    "b = [2; 16; 8; 0; 0; 0]\n",
    "\n",
    "using JuMP, HiGHS, LinearAlgebra\n",
    "\n",
    "m = Model(HiGHS.Optimizer)\n",
    "@variable(m, r >= 0)           # radius of the sphere\n",
    "@variable(m, x[1:3]>=0)           # coordinates of center\n",
    "for i = 1:size(A,1)\n",
    "    @constraint(m, A[i,:]'*x + r*norm(A[i,:]) <= b[i])\n",
    "end\n",
    "@objective(m, Max, r)     # maximize radius of the sphere\n",
    "\n",
    "optimize!(m)\n",
    "center = value.(x)\n",
    "radius = value(r)\n",
    "\n",
    "println(\"HiGHS LP solver terminated with status \", termination_status(m))\n",
    "println(\"The coordinates of the Chebyshev center are: \", center)\n",
    "println(\"The largest possible radius is: \", radius)"
   ]
  },
  {
   "cell_type": "code",
   "execution_count": null,
   "metadata": {},
   "outputs": [],
   "source": []
  }
 ],
 "metadata": {
  "@webio": {
   "lastCommId": null,
   "lastKernelId": null
  },
  "kernelspec": {
   "display_name": "Julia 1.8.5",
   "language": "julia",
   "name": "julia-1.8"
  },
  "language_info": {
   "file_extension": ".jl",
   "mimetype": "application/julia",
   "name": "julia",
   "version": "1.8.5"
  }
 },
 "nbformat": 4,
 "nbformat_minor": 1
}
