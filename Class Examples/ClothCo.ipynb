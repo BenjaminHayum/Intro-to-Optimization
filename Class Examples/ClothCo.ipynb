{
 "cells": [
  {
   "cell_type": "code",
   "execution_count": 1,
   "metadata": {},
   "outputs": [
    {
     "name": "stderr",
     "output_type": "stream",
     "text": [
      "\u001b[32m\u001b[1m    Updating\u001b[22m\u001b[39m registry at `~/.julia/registries/General.toml`\n",
      "\u001b[32m\u001b[1m   Resolving\u001b[22m\u001b[39m package versions...\n",
      "\u001b[32m\u001b[1m  No Changes\u001b[22m\u001b[39m to `~/.julia/environments/v1.8/Project.toml`\n",
      "\u001b[32m\u001b[1m  No Changes\u001b[22m\u001b[39m to `~/.julia/environments/v1.8/Manifest.toml`\n",
      "\u001b[32m\u001b[1m    Building\u001b[22m\u001b[39m Gurobi → `~/.julia/scratchspaces/44cfe95a-1eb2-52ea-b672-e2afdf69b78f/82a44a86f4dc4fa4510c9d49b0a74d3d73914d5c/build.log`\n"
     ]
    }
   ],
   "source": [
    "# have to tell it where Gurobi and the license file are on my machine.\n",
    "\n",
    "ENV[\"GUROBI_HOME\"] = \"/Library/gurobi1000/macos_universal2\"\n",
    "ENV[\"GRB_LICENSE_FILE\"] = \"/Library/gurobi1000/gurobi.lic\"\n",
    "import Pkg\n",
    "Pkg.add(\"Gurobi\")\n",
    "Pkg.build(\"Gurobi\")"
   ]
  },
  {
   "cell_type": "markdown",
   "metadata": {},
   "source": [
    "## Example: ClothCo\n",
    "ClothCo is capable of manufacturing three types of clothing: shirts, shorts, and pants. Each type of clothing requires that ClothCo have the appropriate type of machine available. The machines can be rented at a fixed weekly cost. The manufacture of each type of clothing also requires some amount of cloth and labor, and returns some profit, indicated below. Each week, 150 hours of labor and 160 sq yd of cloth are available. How should ClothCo tune its production to maximize profits? Note: If we don't produce a particular item, we can save on the rental cost!\n",
    "\n",
    "| Clothing item | Labor per item | Cloth per item | Profit per item | Machine rental |\n",
    "|:------:|:-------:|:-:|:---:|:--------:|\n",
    "| Shirt  | 3 hours | 4 | \\$6 | \\$200/wk |\n",
    "| Shorts | 2 hours | 3 | \\$4 | \\$150/wk |\n",
    "| Pants  | 6 hours | 4 | \\$7 | \\$100/wk |"
   ]
  },
  {
   "cell_type": "code",
   "execution_count": 2,
   "metadata": {},
   "outputs": [
    {
     "name": "stderr",
     "output_type": "stream",
     "text": [
      "\u001b[36m\u001b[1m[ \u001b[22m\u001b[39m\u001b[36m\u001b[1mInfo: \u001b[22m\u001b[39mPrecompiling Gurobi [2e9cd046-0924-5485-92f1-d5272153d98b]\n"
     ]
    },
    {
     "name": "stdout",
     "output_type": "stream",
     "text": [
      "Set parameter Username\n",
      "Academic license - for non-commercial use only - expires 2024-01-15\n",
      "0.0 shirts\n",
      "0.0 shorts\n",
      "25.0 pants\n",
      "\n",
      "$75.0 of net profit\n"
     ]
    }
   ],
   "source": [
    "using JuMP, Gurobi\n",
    "\n",
    "m = Model(Gurobi.Optimizer)\n",
    "set_optimizer_attribute(m, \"OutputFlag\", 0)\n",
    "\n",
    "@variable(m, x[1:3] >= 0)\n",
    "@variable(m, z[1:3], Bin)\n",
    "\n",
    "@constraint(m, 3x[1] + 2x[2] + 6x[3] <= 150)  # labor budget\n",
    "@constraint(m, 4x[1] + 3x[2] + 4x[3] <= 160)  # cloth budget\n",
    "@constraint(m, x .<= 54*z)                   # if x>0 then z=1\n",
    "\n",
    "@objective(m, Max, 6x[1] + 4x[2] + 7x[3] - 200z[1] - 150z[2] - 100z[3])\n",
    "#@objective(m, Max, 6x[1] + 4x[2] + 7x[3])\n",
    "\n",
    "optimize!(m)\n",
    "\n",
    "xopt = value.(x)\n",
    "println(xopt[1], \" shirts\")\n",
    "println(xopt[2], \" shorts\")\n",
    "println(xopt[3], \" pants\" )\n",
    "println()\n",
    "println(\"\\$\", objective_value(m), \" of net profit\")"
   ]
  },
  {
   "cell_type": "code",
   "execution_count": 3,
   "metadata": {},
   "outputs": [
    {
     "name": "stdout",
     "output_type": "stream",
     "text": [
      "0.0 shirts\n",
      "0.0 shorts\n",
      "25.0 pants\n",
      "\n",
      "$75.0 of net profit\n"
     ]
    }
   ],
   "source": [
    "using JuMP, HiGHS\n",
    "\n",
    "m = Model(HiGHS.Optimizer)\n",
    "set_silent(m)\n",
    "\n",
    "@variable(m, x[1:3] >= 0)\n",
    "@variable(m, z[1:3], Bin)\n",
    "\n",
    "@constraint(m, 3x[1] + 2x[2] + 6x[3] <= 150)  # labor budget\n",
    "@constraint(m, 4x[1] + 3x[2] + 4x[3] <= 160)  # cloth budget\n",
    "@constraint(m, x .<= 54*z)                   # if x>0 then z=1\n",
    "\n",
    "@objective(m, Max, 6x[1] + 4x[2] + 7x[3] - 200z[1] - 150z[2] - 100z[3])\n",
    "#@objective(m, Max, 6x[1] + 4x[2] + 7x[3])\n",
    "\n",
    "optimize!(m)\n",
    "\n",
    "xopt = value.(x)\n",
    "println(xopt[1], \" shirts\")\n",
    "println(xopt[2], \" shorts\")\n",
    "println(xopt[3], \" pants\" )\n",
    "println()\n",
    "println(\"\\$\", objective_value(m), \" of net profit\")"
   ]
  },
  {
   "cell_type": "code",
   "execution_count": null,
   "metadata": {},
   "outputs": [],
   "source": []
  }
 ],
 "metadata": {
  "kernelspec": {
   "display_name": "Julia 1.8.5",
   "language": "julia",
   "name": "julia-1.8"
  },
  "language_info": {
   "file_extension": ".jl",
   "mimetype": "application/julia",
   "name": "julia",
   "version": "1.8.5"
  }
 },
 "nbformat": 4,
 "nbformat_minor": 1
}
