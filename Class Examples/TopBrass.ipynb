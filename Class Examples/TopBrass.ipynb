{
 "cells": [
  {
   "cell_type": "markdown",
   "metadata": {},
   "source": [
    "# Top Brass Trophy problem (Ex. 5.1 in Rardin'98)\n",
    "\n",
    "Top Brass Trophy Company makes large championship trophies for youth athletic leagues. At the moment, they are planning production for fall sports: football and soccer. Each football trophy has a wood base, an engraved plaque, a large brass football on top, and returns 12 dollars in profit. Soccer trophies are similar except that a brass soccer ball is on top, and the unit profit is only 9 dollars. Since the football has an asymmetric shape, its base requires 4 board feet of wood; the soccer base requires only 2 board feet. At the moment there are 1000 brass footballs in stock, 1500 soccer balls, 1750 plaques, and 4800 board feet of wood. What trophies should be produced from these supplies to maximize total profit assuming that all that are made can be sold?"
   ]
  },
  {
   "cell_type": "markdown",
   "metadata": {},
   "source": [
    "### Implementing the model in Julia"
   ]
  },
  {
   "cell_type": "code",
   "execution_count": 1,
   "metadata": {},
   "outputs": [
    {
     "name": "stderr",
     "output_type": "stream",
     "text": [
      "\u001b[32m\u001b[1m    Updating\u001b[22m\u001b[39m registry at `~/.julia/registries/General.toml`\n",
      "\u001b[32m\u001b[1m   Resolving\u001b[22m\u001b[39m package versions...\n",
      "\u001b[32m\u001b[1m  No Changes\u001b[22m\u001b[39m to `~/.julia/environments/v1.8/Project.toml`\n",
      "\u001b[32m\u001b[1m  No Changes\u001b[22m\u001b[39m to `~/.julia/environments/v1.8/Manifest.toml`\n"
     ]
    }
   ],
   "source": [
    "using Pkg\n",
    "Pkg.build(\"HiGHS\")\n",
    "Pkg.add(\"HiGHS\")"
   ]
  },
  {
   "cell_type": "code",
   "execution_count": 2,
   "metadata": {
    "scrolled": true
   },
   "outputs": [
    {
     "data": {
      "text/latex": [
       "$$ 12 f + 9 s $$"
      ],
      "text/plain": [
       "12 f + 9 s"
      ]
     },
     "execution_count": 2,
     "metadata": {},
     "output_type": "execute_result"
    }
   ],
   "source": [
    "# Putting together the model\n",
    "\n",
    "using JuMP\n",
    "\n",
    "m = Model()\n",
    "\n",
    "# (We'll just set up the model here and define the solver later)\n",
    "\n",
    "@variable(m, 0 <= f <= 1000)           # football trophies\n",
    "@variable(m, 0 <= s <= 1500)           # soccer trophies\n",
    "@constraint(m, 4f + 2s <= 4800)        # total board feet of wood\n",
    "@constraint(m, f + s <= 1750)          # total number of plaques\n",
    "@objective(m, Max, 12f + 9s)           # maximize profit"
   ]
  },
  {
   "cell_type": "code",
   "execution_count": 3,
   "metadata": {},
   "outputs": [
    {
     "data": {
      "text/latex": [
       "$$ \\begin{aligned}\n",
       "\\max\\quad & 12 f + 9 s\\\\\n",
       "\\text{Subject to} \\quad & 4 f + 2 s \\leq 4800.0\\\\\n",
       " & f + s \\leq 1750.0\\\\\n",
       " & f \\geq 0.0\\\\\n",
       " & s \\geq 0.0\\\\\n",
       " & f \\leq 1000.0\\\\\n",
       " & s \\leq 1500.0\\\\\n",
       "\\end{aligned} $$"
      ]
     },
     "metadata": {},
     "output_type": "display_data"
    }
   ],
   "source": [
    "# Printing the model\n",
    "print(m)"
   ]
  },
  {
   "cell_type": "code",
   "execution_count": 4,
   "metadata": {},
   "outputs": [
    {
     "name": "stdout",
     "output_type": "stream",
     "text": [
      "Max 12 f + 9 s\n",
      "Subject to\n",
      " 4 f + 2 s ≤ 4800.0\n",
      " f + s ≤ 1750.0\n",
      " f ≥ 0.0\n",
      " s ≥ 0.0\n",
      " f ≤ 1000.0\n",
      " s ≤ 1500.0\n",
      "\n"
     ]
    }
   ],
   "source": [
    "# An alternative way of printing the model\n",
    "println(m)"
   ]
  },
  {
   "cell_type": "markdown",
   "metadata": {},
   "source": [
    "Now let's solve it, and print the results!"
   ]
  },
  {
   "cell_type": "code",
   "execution_count": 5,
   "metadata": {},
   "outputs": [
    {
     "name": "stdout",
     "output_type": "stream",
     "text": [
      "Running HiGHS 1.4.0 [date: 1970-01-01, git hash: bcf6c0b22]\n",
      "Copyright (c) 2022 ERGO-Code under MIT licence terms\n",
      "Presolving model\n",
      "2 rows, 2 cols, 4 nonzeros\n",
      "2 rows, 2 cols, 4 nonzeros\n",
      "Presolve : Reductions: rows 2(-0); columns 2(-0); elements 4(-0) - Not reduced\n",
      "Problem not reduced by presolve: solving the LP\n",
      "Using EKK dual simplex solver - serial\n",
      "  Iteration        Objective     Infeasibilities num(sum)\n",
      "          0     0.0000000000e+00 Ph1: 0(0) 0s\n",
      "          2     1.7700000000e+04 Pr: 0(0) 0s\n",
      "Model   status      : Optimal\n",
      "Simplex   iterations: 2\n",
      "Objective value     :  1.7700000000e+04\n",
      "HiGHS run time      :          0.00\n",
      "The total number of football trophies will be 650.0\n",
      "The total number of soccer   trophies will be 1100.0\n",
      "Total profit will be $17700.0\n"
     ]
    }
   ],
   "source": [
    "using HiGHS\n",
    "# @time set_optimizer(m, HiGHS.Optimizer)\n",
    "set_optimizer(m, HiGHS.Optimizer)\n",
    "optimize!(m)\n",
    "\n",
    "println(\"The total number of football trophies will be \", value(f))\n",
    "println(\"The total number of soccer   trophies will be \", value(s))\n",
    "println(\"Total profit will be \\$\", objective_value(m))"
   ]
  },
  {
   "cell_type": "markdown",
   "metadata": {},
   "source": [
    "Another way of implementing the model, separating the data and the model:"
   ]
  },
  {
   "cell_type": "code",
   "execution_count": 6,
   "metadata": {},
   "outputs": [],
   "source": [
    "# the types of trophies produced\n",
    "sports = [:football, :soccer]\n",
    "\n",
    "# wood required for each type of trophy (in board feet)\n",
    "wood   = Dict( :football => 4, :soccer => 2)\n",
    "\n",
    "# plaques required for each type of trophy\n",
    "plaques = Dict( :football => 1, :soccer => 1)\n",
    "\n",
    "# profit made for each trophy\n",
    "profit = Dict( :football => 12, :soccer => 9)\n",
    "\n",
    "# quantities in stock for each ingredient\n",
    "num_wood     = 4800\n",
    "num_plaques  = 1750\n",
    "num_football = 1000\n",
    "num_soccer   = 1500\n",
    ";"
   ]
  },
  {
   "cell_type": "markdown",
   "metadata": {},
   "source": [
    "Here we give names in the model to the plaque constraint, the wood constraint, and the objective."
   ]
  },
  {
   "cell_type": "code",
   "execution_count": 7,
   "metadata": {},
   "outputs": [
    {
     "data": {
      "text/latex": [
       "$$ 12 trophies_{football} + 9 trophies_{soccer} $$"
      ],
      "text/plain": [
       "12 trophies[football] + 9 trophies[soccer]"
      ]
     },
     "execution_count": 7,
     "metadata": {},
     "output_type": "execute_result"
    }
   ],
   "source": [
    "using JuMP, HiGHS\n",
    "m1 = Model()\n",
    "\n",
    "@variable(m1, trophies[sports] >= 0 )    # \"trophies\" is a dictionary indexed over sports\n",
    "\n",
    "@expression(m1, tot_plaques, sum(trophies[i] * plaques[i] for i in sports) )\n",
    "@expression(m1, tot_wood,    sum(trophies[i] * wood[i]    for i in sports) )\n",
    "@expression(m1, tot_profit,  sum(trophies[i] * profit[i]  for i in sports) )\n",
    "\n",
    "@constraint(m1, trophies[:soccer] <= num_soccer )      # maximum number of soccer balls\n",
    "@constraint(m1, trophies[:football] <= num_football )  # maximum number of footballs\n",
    "@constraint(m1, tot_plaques <= num_plaques )           # maximum number of plaques\n",
    "@constraint(m1, tot_wood    <= num_wood )              # maximum amount of wood\n",
    "\n",
    "@objective(m1, Max, tot_profit)"
   ]
  },
  {
   "cell_type": "markdown",
   "metadata": {},
   "source": [
    "Now we solve this version of the model."
   ]
  },
  {
   "cell_type": "code",
   "execution_count": 8,
   "metadata": {},
   "outputs": [
    {
     "name": "stdout",
     "output_type": "stream",
     "text": [
      "Running HiGHS 1.4.0 [date: 1970-01-01, git hash: bcf6c0b22]\n",
      "Copyright (c) 2022 ERGO-Code under MIT licence terms\n",
      "Presolving model\n",
      "2 rows, 2 cols, 4 nonzeros\n",
      "2 rows, 2 cols, 4 nonzeros\n",
      "Presolve : Reductions: rows 2(-2); columns 2(-0); elements 4(-2)\n",
      "Solving the presolved LP\n",
      "Using EKK dual simplex solver - serial\n",
      "  Iteration        Objective     Infeasibilities num(sum)\n",
      "          0     0.0000000000e+00 Ph1: 0(0) 0s\n",
      "          2    -1.7700000000e+04 Pr: 0(0) 0s\n",
      "Solving the original LP from the solution after postsolve\n",
      "Model   status      : Optimal\n",
      "Simplex   iterations: 2\n",
      "Objective value     :  1.7700000000e+04\n",
      "HiGHS run time      :          0.00\n",
      "The total number of football and soccer throphies will be [650.0, 1100.0]\n",
      "Total profit will be $17700.0\n",
      "Total wood used is 4800.0 board feet\n",
      "Total number of plaques used is 1750.0\n"
     ]
    }
   ],
   "source": [
    "set_optimizer(m1, HiGHS.Optimizer)\n",
    "optimize!(m1)\n",
    "\n",
    "println(\"The total number of football and soccer throphies will be \", [JuMP.value(trophies[i]) for i in sports])\n",
    "println(\"Total profit will be \\$\", JuMP.value(tot_profit))\n",
    "println(\"Total wood used is \", JuMP.value(tot_wood), \" board feet\")\n",
    "println(\"Total number of plaques used is \", JuMP.value(tot_plaques))"
   ]
  },
  {
   "cell_type": "markdown",
   "metadata": {},
   "source": [
    "### Solving the problem with various Linear Programming solvers!"
   ]
  },
  {
   "cell_type": "markdown",
   "metadata": {},
   "source": [
    "Solve the model and print the solution:"
   ]
  },
  {
   "cell_type": "code",
   "execution_count": 9,
   "metadata": {},
   "outputs": [
    {
     "name": "stderr",
     "output_type": "stream",
     "text": [
      "\u001b[32m\u001b[1m   Resolving\u001b[22m\u001b[39m package versions...\n",
      "\u001b[32m\u001b[1m  No Changes\u001b[22m\u001b[39m to `~/.julia/environments/v1.8/Project.toml`\n",
      "\u001b[32m\u001b[1m  No Changes\u001b[22m\u001b[39m to `~/.julia/environments/v1.8/Manifest.toml`\n",
      "\u001b[32m\u001b[1m   Resolving\u001b[22m\u001b[39m package versions...\n",
      "\u001b[32m\u001b[1m  No Changes\u001b[22m\u001b[39m to `~/.julia/environments/v1.8/Project.toml`\n",
      "\u001b[32m\u001b[1m  No Changes\u001b[22m\u001b[39m to `~/.julia/environments/v1.8/Manifest.toml`\n"
     ]
    }
   ],
   "source": [
    "# Let's first add some solvers\n",
    "\n",
    "using Pkg\n",
    "Pkg.add(\"ECOS\")\n",
    "Pkg.add(\"SCS\")\n",
    "\n",
    "\n",
    "using JuMP, ECOS, SCS"
   ]
  },
  {
   "cell_type": "markdown",
   "metadata": {},
   "source": [
    "Let's compare some solvers! (Note that they run faster after the first time!)"
   ]
  },
  {
   "cell_type": "code",
   "execution_count": 12,
   "metadata": {},
   "outputs": [
    {
     "name": "stdout",
     "output_type": "stream",
     "text": [
      "  0.002220 seconds (973 allocations: 63.281 KiB)\n",
      "OPTIMAL\n",
      "Build 649.9999988187323 football trophies.\n",
      "Build 1100.000000607336 soccer trophies.\n",
      "Total profit will be $17699.999991290813\n",
      "\n",
      "ECOS 2.0.8 - (C) embotech GmbH, Zurich Switzerland, 2012-15. Web: www.embotech.com/ECOS\n",
      "\n",
      "It     pcost       dcost      gap   pres   dres    k/t    mu     step   sigma     IR    |   BT\n",
      " 0  -1.586e+04  -3.576e+04  +1e+04  3e-06  3e-01  1e+00  1e+03    ---    ---    1  1  - |  -  - \n",
      " 1  -1.765e+04  -1.891e+04  +7e+02  2e-07  2e-02  1e+01  1e+02  0.9369  1e-02   0  0  0 |  0  0\n",
      " 2  -1.769e+04  -1.773e+04  +2e+01  6e-09  7e-04  1e+00  3e+00  0.9820  1e-02   0  0  0 |  0  0\n",
      " 3  -1.770e+04  -1.770e+04  +2e-01  6e-11  8e-06  1e-02  3e-02  0.9890  1e-04   1  0  0 |  0  0\n",
      " 4  -1.770e+04  -1.770e+04  +2e-03  7e-13  9e-08  1e-04  4e-04  0.9890  1e-04   1  0  0 |  0  0\n",
      " 5  -1.770e+04  -1.770e+04  +3e-05  8e-15  1e-09  2e-06  4e-06  0.9890  1e-04   1  0  0 |  0  0\n",
      "\n",
      "OPTIMAL (within feastol=9.7e-10, reltol=1.5e-09, abstol=2.7e-05).\n",
      "Runtime: 0.000069 seconds.\n",
      "\n"
     ]
    }
   ],
   "source": [
    "# ECOS\n",
    "\n",
    "m = Model()\n",
    "\n",
    "@variable(m, 0 <= f <= 1000)           # football trophies\n",
    "@variable(m, 0 <= s <= 1500)           # soccer trophies\n",
    "@constraint(m, 4f + 2s <= 4800)        # total board feet of wood\n",
    "@constraint(m, f + s <= 1750)          # total number of plaques\n",
    "@objective(m, Max, 12f +9s)           # maximize profit\n",
    "\n",
    "set_optimizer(m, ECOS.Optimizer)\n",
    "@time optimize!(m)\n",
    "println(termination_status(m))\n",
    "println(\"Build \", value(f), \" football trophies.\")\n",
    "println(\"Build \", value(s), \" soccer trophies.\")\n",
    "println(\"Total profit will be \\$\", objective_value(m))\n"
   ]
  },
  {
   "cell_type": "code",
   "execution_count": 15,
   "metadata": {},
   "outputs": [
    {
     "name": "stdout",
     "output_type": "stream",
     "text": [
      "  0.000864 seconds (839 allocations: 53.367 KiB)\n",
      "OPTIMAL\n",
      "Build 649.7534130603916 football trophies.\n",
      "Build 1100.306424402705 soccer trophies.\n",
      "Total profit will be $17699.798776349046\n",
      "------------------------------------------------------------------\n",
      "\t       SCS v3.2.1 - Splitting Conic Solver\n",
      "\t(c) Brendan O'Donoghue, Stanford University, 2012\n",
      "------------------------------------------------------------------\n",
      "problem:  variables n: 2, constraints m: 6\n",
      "cones: \t  l: linear vars: 6\n",
      "settings: eps_abs: 1.0e-04, eps_rel: 1.0e-04, eps_infeas: 1.0e-07\n",
      "\t  alpha: 1.50, scale: 1.00e-01, adaptive_scale: 1\n",
      "\t  max_iters: 100000, normalize: 1, rho_x: 1.00e-06\n",
      "\t  acceleration_lookback: 10, acceleration_interval: 10\n",
      "lin-sys:  sparse-direct-amd-qdldl\n",
      "\t  nnz(A): 8, nnz(P): 0\n",
      "------------------------------------------------------------------\n",
      " iter | pri res | dua res |   gap   |   obj   |  scale  | time (s)\n",
      "------------------------------------------------------------------\n",
      "     0| 4.80e+03  1.20e+01  3.13e+04 -1.57e+04  1.00e-01  6.04e-05 \n",
      "   250| 6.49e+00  3.48e-02  9.58e+00 -1.77e+04  5.33e-03  1.99e-04 \n",
      "   300| 3.73e-01  1.00e-03  1.19e+00 -1.77e+04  5.33e-03  2.28e-04 \n",
      "------------------------------------------------------------------\n",
      "status:  solved\n",
      "timings: total: 2.29e-04s = setup: 4.50e-05s + solve: 1.84e-04s\n",
      "\t lin-sys: 6.05e-05s, cones: 1.10e-05s, accel: 2.58e-05s\n",
      "------------------------------------------------------------------\n",
      "objective = -17700.395442\n",
      "------------------------------------------------------------------\n"
     ]
    }
   ],
   "source": [
    "# SCS\n",
    "\n",
    "# this time, defined the optimizer when initializing the model\n",
    "m = Model(SCS.Optimizer)\n",
    "\n",
    "@variable(m, 0 <= f <= 1000)           # football trophies\n",
    "@variable(m, 0 <= s <= 1500)           # soccer trophies\n",
    "@constraint(m, 4f + 2s <= 4800)        # total board feet of wood\n",
    "@constraint(m, f + s <= 1750)          # total number of plaques\n",
    "@objective(m, Max, 12f +9s)           # maximize profit\n",
    "\n",
    "@time optimize!(m)\n",
    "println(termination_status(m))\n",
    "println(\"Build \", value(f), \" football trophies.\")\n",
    "println(\"Build \", value(s), \" soccer trophies.\")\n",
    "println(\"Total profit will be \\$\", objective_value(m))\n"
   ]
  },
  {
   "cell_type": "code",
   "execution_count": 16,
   "metadata": {},
   "outputs": [
    {
     "name": "stderr",
     "output_type": "stream",
     "text": [
      "\u001b[32m\u001b[1m   Resolving\u001b[22m\u001b[39m package versions...\n",
      "\u001b[32m\u001b[1m  No Changes\u001b[22m\u001b[39m to `~/.julia/environments/v1.8/Project.toml`\n",
      "\u001b[32m\u001b[1m  No Changes\u001b[22m\u001b[39m to `~/.julia/environments/v1.8/Manifest.toml`\n",
      "\u001b[32m\u001b[1m    Building\u001b[22m\u001b[39m Gurobi → `~/.julia/scratchspaces/44cfe95a-1eb2-52ea-b672-e2afdf69b78f/82a44a86f4dc4fa4510c9d49b0a74d3d73914d5c/build.log`\n"
     ]
    }
   ],
   "source": [
    "# INSTALLING GUROBI AND GETTING A LICENSE: UPDATED 1/20/23\n",
    "\n",
    "# Go to https://github.com/jump-dev/Gurobi.jl\n",
    "\n",
    "# Scroll down to \"First Obtain a License...\" and click through to Gurobi's web site.\n",
    "\n",
    "# After establishing an account with Gurobi, go to the dropdown menu \"Downloads and Licenses\" and select \"Academic License\"\n",
    "\n",
    "# run \"grbgetkey\" as instructed, with the license number provided. When it asks which directory to store the license in,\n",
    "# I type \"/Library/gurobi1000\"\n",
    "\n",
    "# Now I run this:\n",
    "\n",
    "ENV[\"GUROBI_HOME\"] = \"/Library/gurobi1000/macos_universal2\"\n",
    "ENV[\"GRB_LICENSE_FILE\"] = \"/Library/gurobi1000/gurobi.lic\"\n",
    "import Pkg\n",
    "Pkg.add(\"Gurobi\")\n",
    "Pkg.build(\"Gurobi\")"
   ]
  },
  {
   "cell_type": "code",
   "execution_count": 19,
   "metadata": {},
   "outputs": [
    {
     "name": "stdout",
     "output_type": "stream",
     "text": [
      "Set parameter Username\n",
      "Academic license - for non-commercial use only - expires 2024-01-15\n",
      "Gurobi Optimizer version 10.0.0 build v10.0.0rc2 (mac64[arm])\n",
      "\n",
      "CPU model: Apple M1\n",
      "Thread count: 8 physical cores, 8 logical processors, using up to 8 threads\n",
      "\n",
      "Optimize a model with 2 rows, 2 columns and 4 nonzeros\n",
      "Model fingerprint: 0x1588307c\n",
      "Coefficient statistics:\n",
      "  Matrix range     [1e+00, 4e+00]\n",
      "  Objective range  [9e+00, 1e+01]\n",
      "  Bounds range     [1e+03, 2e+03]\n",
      "  RHS range        [2e+03, 5e+03]\n",
      "Presolve time: 0.00s\n",
      "Presolved: 2 rows, 2 columns, 4 nonzeros\n",
      "\n",
      "Iteration    Objective       Primal Inf.    Dual Inf.      Time\n",
      "       0    2.1600000e+04   3.875000e+02   0.000000e+00      0s\n",
      "       2    1.7700000e+04   0.000000e+00   0.000000e+00      0s\n",
      "\n",
      "Solved in 2 iterations and 0.00 seconds (0.00 work units)\n",
      "Optimal objective  1.770000000e+04\n",
      "\n",
      "User-callback calls 42, time in user-callback 0.00 sec\n",
      "  0.000669 seconds (231 allocations: 13.797 KiB)\n",
      "OPTIMAL\n",
      "Build 650.0 football trophies.\n",
      "Build 1100.0 soccer trophies.\n",
      "Total profit will be $17700.0\n"
     ]
    }
   ],
   "source": [
    "# run the Top Brass model with Gurobi\n",
    "using Gurobi\n",
    "\n",
    "# this time, defined the optimizer when initializing the model\n",
    "m = Model(Gurobi.Optimizer)\n",
    "\n",
    "@variable(m, 0 <= f <= 1000)           # football trophies\n",
    "@variable(m, 0 <= s <= 1500)           # soccer trophies\n",
    "@constraint(m, 4f + 2s <= 4800)        # total board feet of wood\n",
    "@constraint(m, f + s <= 1750)          # total number of plaques\n",
    "@objective(m, Max, 12f +9s)           # maximize profit\n",
    "\n",
    "@time optimize!(m)\n",
    "println(termination_status(m))\n",
    "println(\"Build \", value(f), \" football trophies.\")\n",
    "println(\"Build \", value(s), \" soccer trophies.\")\n",
    "println(\"Total profit will be \\$\", objective_value(m))"
   ]
  },
  {
   "cell_type": "code",
   "execution_count": null,
   "metadata": {},
   "outputs": [],
   "source": []
  }
 ],
 "metadata": {
  "@webio": {
   "lastCommId": null,
   "lastKernelId": null
  },
  "kernelspec": {
   "display_name": "Julia 1.8.5",
   "language": "julia",
   "name": "julia-1.8"
  },
  "language_info": {
   "file_extension": ".jl",
   "mimetype": "application/julia",
   "name": "julia",
   "version": "1.8.5"
  }
 },
 "nbformat": 4,
 "nbformat_minor": 1
}
