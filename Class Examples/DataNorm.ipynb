{
 "cells": [
  {
   "cell_type": "markdown",
   "metadata": {},
   "source": [
    "# Norms of 1D data sets"
   ]
  },
  {
   "cell_type": "code",
   "execution_count": 1,
   "metadata": {},
   "outputs": [
    {
     "data": {
      "text/plain": [
       "9-element Vector{Float64}:\n",
       " 0.2964765308691042\n",
       " 0.8694684883050086\n",
       " 4.552384158732863\n",
       " 5.4764244982761765\n",
       " 7.4680089140938914\n",
       " 7.4694291453392\n",
       " 7.7335352769240515\n",
       " 9.405848223512736\n",
       " 9.766699015845925"
      ]
     },
     "execution_count": 1,
     "metadata": {},
     "output_type": "execute_result"
    }
   ],
   "source": [
    "# randomly generate a sorted list of numbers\n",
    "\n",
    "using Random, Statistics\n",
    "\n",
    "Random.seed!(0)\n",
    "\n",
    "N = 9\n",
    "y = sort(10*rand(N))"
   ]
  },
  {
   "cell_type": "code",
   "execution_count": 2,
   "metadata": {},
   "outputs": [
    {
     "data": {
      "text/plain": [
       "9×1 Matrix{Float64}:\n",
       " 0.0\n",
       " 0.0\n",
       " 0.0\n",
       " 0.0\n",
       " 0.0\n",
       " 0.0\n",
       " 0.0\n",
       " 0.0\n",
       " 0.0"
      ]
     },
     "execution_count": 2,
     "metadata": {},
     "output_type": "execute_result"
    }
   ],
   "source": [
    "zeros(length(y),1)"
   ]
  },
  {
   "cell_type": "code",
   "execution_count": 4,
   "metadata": {},
   "outputs": [
    {
     "name": "stdout",
     "output_type": "stream",
     "text": [
      "Running HiGHS 1.4.0 [date: 1970-01-01, git hash: bcf6c0b22]\n",
      "Copyright (c) 2022 ERGO-Code under MIT licence terms\n",
      "0, 406.788788, 1, 0.000127, 0.000000, 0, 0.000000, 0.000000\n",
      "3, 94.226730, 1, 0.000141, 0.000000, 0, 0.000000, 1.000000\n",
      "Model   status      : Optimal\n",
      "QP ASM    iterations: 3\n",
      "Objective value     :  9.4226728334e+01\n",
      "HiGHS run time      :          0.00\n",
      "The mean of y is: 5.8931415508046525\n"
     ]
    }
   ],
   "source": [
    "# minimize the 2-norm\n",
    "using JuMP, HiGHS\n",
    "m = Model(HiGHS.Optimizer)\n",
    "@variable(m, x)\n",
    "@objective(m, Min, sum( (y.-x).^2) )\n",
    "\n",
    "optimize!(m)\n",
    "\n",
    "println(\"The mean of y is: \", value.(x))"
   ]
  },
  {
   "cell_type": "code",
   "execution_count": 5,
   "metadata": {},
   "outputs": [
    {
     "data": {
      "text/plain": [
       "5.893141583544328"
      ]
     },
     "execution_count": 5,
     "metadata": {},
     "output_type": "execute_result"
    }
   ],
   "source": [
    "Statistics.mean(y)\n",
    "\n",
    "# You can also write this directly as mean(y), \n",
    "# but I wanted to make explicit that this is a function in the statistics package."
   ]
  },
  {
   "cell_type": "code",
   "execution_count": 6,
   "metadata": {},
   "outputs": [
    {
     "name": "stdout",
     "output_type": "stream",
     "text": [
      "Running HiGHS 1.4.0 [date: 1970-01-01, git hash: bcf6c0b22]\n",
      "Copyright (c) 2022 ERGO-Code under MIT licence terms\n",
      "Presolving model\n",
      "18 rows, 10 cols, 36 nonzeros\n",
      "18 rows, 10 cols, 36 nonzeros\n",
      "Presolve : Reductions: rows 18(-0); columns 10(-0); elements 36(-0) - Not reduced\n",
      "Problem not reduced by presolve: solving the LP\n",
      "Using EKK dual simplex solver - serial\n",
      "  Iteration        Objective     Infeasibilities num(sum)\n",
      "          0    -9.0000000000e+03 Ph1: 9(18000); Du: 9(9) 0s\n",
      "         15     2.3180757985e+01 Pr: 0(0) 0s\n",
      "Model   status      : Optimal\n",
      "Simplex   iterations: 15\n",
      "Objective value     :  2.3180757985e+01\n",
      "HiGHS run time      :          0.00\n",
      "The median of y is: 7.4680089140938914\n"
     ]
    }
   ],
   "source": [
    "# minimize the 1-norm\n",
    "using JuMP, HiGHS\n",
    "\n",
    "m = Model(HiGHS.Optimizer)\n",
    "@variable(m, x)\n",
    "@variable(m, t[1:N])\n",
    "for i=1:N\n",
    "    @constraint(m, y[i]-x <= t[i] )\n",
    "    @constraint(m, -t[i] <= y[i]-x )\n",
    "end\n",
    "\n",
    "@objective(m, Min, sum(t) )\n",
    "\n",
    "optimize!(m)\n",
    "\n",
    "println(\"The median of y is: \", value(x))"
   ]
  },
  {
   "cell_type": "code",
   "execution_count": 7,
   "metadata": {},
   "outputs": [
    {
     "data": {
      "text/plain": [
       "7.4680089140938914"
      ]
     },
     "execution_count": 7,
     "metadata": {},
     "output_type": "execute_result"
    }
   ],
   "source": [
    "#y[5]\n",
    "\n",
    "median(y)"
   ]
  },
  {
   "cell_type": "code",
   "execution_count": 8,
   "metadata": {},
   "outputs": [
    {
     "name": "stdout",
     "output_type": "stream",
     "text": [
      "Running HiGHS 1.4.0 [date: 1970-01-01, git hash: bcf6c0b22]\n",
      "Copyright (c) 2022 ERGO-Code under MIT licence terms\n",
      "Presolving model\n",
      "18 rows, 2 cols, 36 nonzeros\n",
      "2 rows, 2 cols, 4 nonzeros\n",
      "0 rows, 0 cols, 0 nonzeros\n",
      "0 rows, 0 cols, 0 nonzeros\n",
      "Presolve : Reductions: rows 0(-18); columns 0(-2); elements 0(-36) - Reduced to empty\n",
      "Solving the original LP from the solution after postsolve\n",
      "Model   status      : Optimal\n",
      "Objective value     :  4.7351112425e+00\n",
      "HiGHS run time      :          0.00\n",
      "The mid-range of y is: 5.031587773357514\n"
     ]
    }
   ],
   "source": [
    "# minimize the infinity-norm\n",
    "using JuMP, HiGHS\n",
    "m = Model(HiGHS.Optimizer)\n",
    "@variable(m, x)\n",
    "@variable(m, r)\n",
    "for i=1:N\n",
    "    @constraint(m, y[i]-x <= r )\n",
    "    @constraint(m, -r <= y[i]-x )\n",
    "end\n",
    "@objective(m, Min, r )\n",
    "\n",
    "optimize!(m)\n",
    "\n",
    "println(\"The mid-range of y is: \", value(x))"
   ]
  },
  {
   "cell_type": "code",
   "execution_count": 9,
   "metadata": {},
   "outputs": [
    {
     "data": {
      "text/plain": [
       "5.031587773357514"
      ]
     },
     "execution_count": 9,
     "metadata": {},
     "output_type": "execute_result"
    }
   ],
   "source": [
    "(y[1] + y[N])/2"
   ]
  },
  {
   "cell_type": "code",
   "execution_count": null,
   "metadata": {},
   "outputs": [],
   "source": []
  }
 ],
 "metadata": {
  "@webio": {
   "lastCommId": null,
   "lastKernelId": null
  },
  "kernelspec": {
   "display_name": "Julia 1.8.5",
   "language": "julia",
   "name": "julia-1.8"
  },
  "language_info": {
   "file_extension": ".jl",
   "mimetype": "application/julia",
   "name": "julia",
   "version": "1.8.5"
  }
 },
 "nbformat": 4,
 "nbformat_minor": 1
}
