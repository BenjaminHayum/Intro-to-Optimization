{
 "cells": [
  {
   "cell_type": "markdown",
   "metadata": {},
   "source": [
    "# Polynomial regression"
   ]
  },
  {
   "cell_type": "code",
   "execution_count": 1,
   "metadata": {},
   "outputs": [
    {
     "name": "stderr",
     "output_type": "stream",
     "text": [
      "\u001b[32m\u001b[1m    Updating\u001b[22m\u001b[39m registry at `~/.julia/registries/General.toml`\n",
      "\u001b[32m\u001b[1m   Resolving\u001b[22m\u001b[39m package versions...\n",
      "\u001b[32m\u001b[1m  No Changes\u001b[22m\u001b[39m to `~/.julia/environments/v1.8/Project.toml`\n",
      "\u001b[32m\u001b[1m  No Changes\u001b[22m\u001b[39m to `~/.julia/environments/v1.8/Manifest.toml`\n",
      "\u001b[32m\u001b[1m    Building\u001b[22m\u001b[39m Gurobi → `~/.julia/scratchspaces/44cfe95a-1eb2-52ea-b672-e2afdf69b78f/82a44a86f4dc4fa4510c9d49b0a74d3d73914d5c/build.log`\n"
     ]
    }
   ],
   "source": [
    "# INSTALLING GUROBI AND GETTING A LICENSE: UPDATED 1/20/23\n",
    "\n",
    "# Go to https://github.com/jump-dev/Gurobi.jl\n",
    "\n",
    "# Scroll down to \"First Obtain a License...\" and click through to Gurobi's web site.\n",
    "\n",
    "# After establishing an account with Gurobi, go to the dropdown menu \"Downloads and Licenses\" and select \"Academic License\"\n",
    "\n",
    "# run \"grbgetkey\" as instructed, with the license number provided. When it asks which directory to store the license in,\n",
    "# I type \"/Library/gurobi1000\"\n",
    "\n",
    "# Now I run this:\n",
    "\n",
    "ENV[\"GUROBI_HOME\"] = \"/Library/gurobi1000/macos_universal2\"\n",
    "ENV[\"GRB_LICENSE_FILE\"] = \"/Library/gurobi1000/gurobi.lic\"\n",
    "import Pkg\n",
    "Pkg.add(\"Gurobi\")\n",
    "Pkg.build(\"Gurobi\")"
   ]
  },
  {
   "cell_type": "code",
   "execution_count": 2,
   "metadata": {},
   "outputs": [
    {
     "name": "stdout",
     "output_type": "stream",
     "text": [
      "\u001b[32m\u001b[1mStatus\u001b[22m\u001b[39m `~/.julia/environments/v1.8/Project.toml`\n",
      " \u001b[90m [336ed68f] \u001b[39mCSV v0.10.9\n",
      " \u001b[90m [9961bab8] \u001b[39mCbc v1.0.3\n",
      " \u001b[90m [e2554f3b] \u001b[39mClp v1.0.2\n",
      "\u001b[32m⌃\u001b[39m\u001b[90m [a93c6f00] \u001b[39mDataFrames v1.4.4\n",
      " \u001b[90m [e2685f51] \u001b[39mECOS v1.1.0\n",
      "\u001b[32m⌃\u001b[39m\u001b[90m [60bf3e95] \u001b[39mGLPK v1.1.0\n",
      " \u001b[90m [c91e804a] \u001b[39mGadfly v1.3.4\n",
      " \u001b[90m [2e9cd046] \u001b[39mGurobi v0.11.5\n",
      "\u001b[32m⌃\u001b[39m\u001b[90m [87dc4568] \u001b[39mHiGHS v1.4.1\n",
      " \u001b[90m [7073ff75] \u001b[39mIJulia v1.24.0\n",
      " \u001b[90m [c601a237] \u001b[39mInteract v0.10.5\n",
      " \u001b[90m [b6b21f68] \u001b[39mIpopt v1.1.0\n",
      "\u001b[32m⌃\u001b[39m\u001b[90m [4076af6c] \u001b[39mJuMP v1.6.0\n",
      " \u001b[90m [86f7a689] \u001b[39mNamedArrays v0.9.6\n",
      "\u001b[32m⌃\u001b[39m\u001b[90m [91a5bcdd] \u001b[39mPlots v1.38.2\n",
      " \u001b[90m [438e738f] \u001b[39mPyCall v1.95.1\n",
      " \u001b[90m [d330b81b] \u001b[39mPyPlot v2.11.0\n",
      " \u001b[90m [c946c3f1] \u001b[39mSCS v1.1.3\n",
      " \u001b[90m [37e2e46d] \u001b[39mLinearAlgebra\n",
      "\u001b[36m\u001b[1mInfo\u001b[22m\u001b[39m Packages marked with \u001b[32m⌃\u001b[39m have new versions available and may be upgradable.\n"
     ]
    }
   ],
   "source": [
    "Pkg.status()"
   ]
  },
  {
   "cell_type": "code",
   "execution_count": 3,
   "metadata": {},
   "outputs": [
    {
     "data": {
      "image/png": "[encoded data removed]",
      "text/plain": [
       "Figure(PyObject <Figure size 800x400 with 1 Axes>)"
      ]
     },
     "metadata": {},
     "output_type": "display_data"
    }
   ],
   "source": [
    "# define (x,y) coordinates of the points\n",
    "x = [ 1, 2, 3, 4, 5, 6, 7, 8, 9, 10, 11, 12, 13, 14, 15, 16 ]\n",
    "y = [ 1, 3, 0, 1, 2, 4, 6, 7, 5, 5, 6, 7.2, 5.5,  4, 3.2, 5]\n",
    "\n",
    "using PyPlot\n",
    "figure(figsize=(8,4))\n",
    "plot(x,y,\"r.\", markersize=10)\n",
    "axis([0,16,-2,8])\n",
    "grid(\"True\")"
   ]
  },
  {
   "cell_type": "code",
   "execution_count": 4,
   "metadata": {},
   "outputs": [],
   "source": [
    "# Fit the data using a function of the form y = f(x) = u1 x^k + u2 x^(k-1) + ... + uk x + u{k+1}\n",
    "\n",
    "# Order of polynomial used for fitting\n",
    "k = 4\n",
    "\n",
    "# Create the A matrix (where each row corresponds to one observation x_i and each column is an x^k term)\n",
    "n = length(x)\n",
    "A = zeros(n,k+1)\n",
    "for i = 1:n\n",
    "    for j = 1:k+1\n",
    "        A[i,j] = x[i]^(k+1-j)\n",
    "    end\n",
    "end"
   ]
  },
  {
   "cell_type": "code",
   "execution_count": 5,
   "metadata": {},
   "outputs": [
    {
     "name": "stderr",
     "output_type": "stream",
     "text": [
      "\u001b[36m\u001b[1m[ \u001b[22m\u001b[39m\u001b[36m\u001b[1mInfo: \u001b[22m\u001b[39mPrecompiling Gurobi [2e9cd046-0924-5485-92f1-d5272153d98b]\n"
     ]
    },
    {
     "name": "stdout",
     "output_type": "stream",
     "text": [
      "Set parameter Username\n",
      "Academic license - for non-commercial use only - expires 2024-01-15\n",
      "Gurobi Optimizer version 10.0.0 build v10.0.0rc2 (mac64[arm])\n",
      "\n",
      "CPU model: Apple M1\n",
      "Thread count: 8 physical cores, 8 logical processors, using up to 8 threads\n",
      "\n",
      "Optimize a model with 0 rows, 5 columns and 0 nonzeros\n",
      "Model fingerprint: 0xc477cc36\n",
      "Model has 15 quadratic objective terms\n",
      "Coefficient statistics:\n",
      "  Matrix range     [0e+00, 0e+00]\n",
      "  Objective range  [1e+02, 2e+06]\n",
      "  QObjective range [3e+01, 2e+10]\n",
      "  Bounds range     [0e+00, 0e+00]\n",
      "  RHS range        [0e+00, 0e+00]\n",
      "Warning: Model contains large quadratic objective coefficients\n",
      "         Consider reformulating model or setting NumericFocus parameter\n",
      "         to avoid numerical issues.\n",
      "Presolve time: 0.00s\n",
      "Presolved: 0 rows, 5 columns, 0 nonzeros\n",
      "Presolved model has 15 quadratic objective terms\n",
      "Ordering time: 0.00s\n",
      "\n",
      "Barrier statistics:\n",
      " Free vars  : 9\n",
      " AA' NZ     : 6.000e+00\n",
      " Factor NZ  : 1.000e+01\n",
      " Factor Ops : 3.000e+01 (less than 1 second per iteration)\n",
      " Threads    : 1\n",
      "\n",
      "                  Objective                Residual\n",
      "Iter       Primal          Dual         Primal    Dual     Compl     Time\n",
      "   0   3.35330000e+02  3.35330000e+02  0.00e+00 2.34e+06  0.00e+00     0s\n",
      "   1   3.33379918e+02  3.35327161e+02  2.23e-08 2.33e+06  0.00e+00     0s\n",
      "   2   3.33281966e+02  3.35327055e+02  4.91e-08 2.33e+06  0.00e+00     0s\n",
      "   3   3.33104809e+02  3.35326933e+02  1.08e-07 2.33e+06  0.00e+00     0s\n",
      "   4   3.32715344e+02  3.35326658e+02  2.37e-07 2.33e+06  0.00e+00     0s\n",
      "   5   3.20366412e+02  3.35178088e+02  5.17e-07 2.29e+06  0.00e+00     0s\n",
      "   6   3.18195814e+02  3.35161569e+02  1.14e-06 2.29e+06  0.00e+00     0s\n",
      "   7   3.13444319e+02  3.35122582e+02  2.50e-06 2.28e+06  0.00e+00     0s\n",
      "   8   2.81119294e+02  3.33872605e+02  5.38e-06 2.18e+06  0.00e+00     0s\n",
      "   9   2.60552748e+02  3.33436335e+02  1.18e-05 2.16e+06  0.00e+00     0s\n",
      "  10   2.67193397e+02  3.30286001e+02  2.97e-06 2.05e+06  0.00e+00     0s\n",
      "  11   2.65244952e+02  3.28704816e+02  6.46e-06 2.00e+06  0.00e+00     0s\n",
      "  12   2.77148108e+02  3.27643838e+02  1.41e-05 1.98e+06  0.00e+00     0s\n",
      "  13   2.48136085e+02  3.09760405e+02  2.89e-05 1.68e+06  0.00e+00     0s\n",
      "  14   9.38163318e+01  2.76831470e+02  1.16e-05 1.34e+06  0.00e+00     0s\n",
      "  15   1.10524099e+02  2.61479626e+02  3.38e-06 1.21e+06  0.00e+00     0s\n",
      "  16   1.03515571e+02  2.45285834e+02  7.12e-06 1.10e+06  0.00e+00     0s\n",
      "  17   1.15518922e+02  2.36704952e+02  1.53e-05 1.04e+06  0.00e+00     0s\n",
      "  18   4.94511564e+01  2.11255549e+02  5.38e-06 8.79e+05  0.00e+00     0s\n",
      "  19   5.54851811e+01  1.91957180e+02  1.68e-06 7.69e+05  0.00e+00     0s\n",
      "  20   5.84647149e+01  1.86886513e+02  3.99e-06 7.42e+05  0.00e+00     0s\n",
      "  21   6.15863372e+01  1.70310423e+02  8.34e-06 6.55e+05  0.00e+00     0s\n",
      "  22   7.64449887e+01  1.52720041e+02  1.73e-05 5.67e+05  0.00e+00     0s\n",
      "  23   1.21617080e+01  1.71645472e+01  2.14e-06 5.67e-01  0.00e+00     0s\n",
      "  24   1.71642681e+01  1.71643923e+01  5.68e-11 5.67e-07  0.00e+00     0s\n",
      "\n",
      "Barrier solved model in 24 iterations and 0.00 seconds (0.00 work units)\n",
      "Optimal objective 1.71642681e+01\n",
      "\n",
      "\n",
      "User-callback calls 88, time in user-callback 0.00 sec\n",
      "OPTIMAL\n",
      "The objective value is 17.164268123763804\n",
      "The optimal parameters are [0.002320865140005629, -0.08461679037317738, 0.969732004634473, -3.3515882584235666, 4.320673076823761]\n"
     ]
    }
   ],
   "source": [
    "# NOTE: must have either Gurobi or Mosek installed!\n",
    "\n",
    "# Solve the LEAST SQUARES polynomial fit\n",
    "\n",
    "# using JuMP, Gurobi, MosekTools, Mosek\n",
    "using JuMP, Gurobi\n",
    "\n",
    "#m = Model(with_optimizer(Gurobi.Optimizer))\n",
    "#m = Model(with_optimizer(Gurobi.Optimizer,OutputFlag=0))\n",
    "#m = Model(with_optimizer(Gurobi.Optimizer,NumericFocus=3,BarHomogeneous=1))\n",
    "#m = Model(with_optimizer(Mosek.Optimizer))\n",
    "#m = Model(with_optimizer(Mosek.Optimizer,LOG=0))\n",
    "\n",
    "\n",
    "# const GRB_ENV = Gurobi.Env()\n",
    "# m = Model(() -> Gurobi.Optimizer(GRB_ENV))\n",
    "\n",
    "m = Model(Gurobi.Optimizer)\n",
    "\n",
    "@variable(m, u[1:k+1])\n",
    "@objective(m, Min, sum( (y - A*u).^2 ) )\n",
    "# @objective(m, Min, dot(y-A*u,y-A*u) )\n",
    "\n",
    "optimize!(m)\n",
    "uopt = value.(u)\n",
    "println(termination_status(m))\n",
    "println(\"The objective value is \", objective_value(m))\n",
    "println(\"The optimal parameters are \",uopt)"
   ]
  },
  {
   "cell_type": "code",
   "execution_count": 6,
   "metadata": {},
   "outputs": [
    {
     "name": "stdout",
     "output_type": "stream",
     "text": [
      "Set parameter Username\n",
      "Academic license - for non-commercial use only - expires 2024-01-15\n",
      "Gurobi Optimizer version 10.0.0 build v10.0.0rc2 (mac64[arm])\n",
      "\n",
      "CPU model: Apple M1\n",
      "Thread count: 8 physical cores, 8 logical processors, using up to 8 threads\n",
      "\n",
      "Optimize a model with 32 rows, 21 columns and 192 nonzeros\n",
      "Model fingerprint: 0x0fc9b0de\n",
      "Coefficient statistics:\n",
      "  Matrix range     [1e+00, 7e+04]\n",
      "  Objective range  [1e-03, 1e-03]\n",
      "  Bounds range     [0e+00, 0e+00]\n",
      "  RHS range        [1e+00, 7e+00]\n",
      "Presolve time: 0.00s\n",
      "Presolved: 32 rows, 21 columns, 192 nonzeros\n",
      "\n",
      "Iteration    Objective       Primal Inf.    Dual Inf.      Time\n",
      "       0      handle free variables                          0s\n",
      "      23    1.2167133e-02   0.000000e+00   0.000000e+00      0s\n",
      "\n",
      "Solved in 23 iterations and 0.00 seconds (0.00 work units)\n",
      "Optimal objective  1.216713287e-02\n",
      "\n",
      "User-callback calls 65, time in user-callback 0.00 sec\n",
      "OPTIMAL\n",
      "0.012167132867132871\n",
      "[0.003302253302253309, -0.11600621600621623, 1.2794483294483316, -4.241802641802648, 4.0750582750582796]\n"
     ]
    }
   ],
   "source": [
    "# Solve the L_1 NORM polynomial fit. \n",
    "# Note: We MUST use an LP solver for this! \n",
    "# When using the L_1 criterion, there is no equivalent of the normal equations or the backslash command.\n",
    "\n",
    "# using JuMP, Gurobi, MosekTools, Mosek\n",
    "using JuMP, Gurobi\n",
    "\n",
    "m = Model(Gurobi.Optimizer)\n",
    "#m = Model(with_optimizer(Mosek.Optimizer))\n",
    "\n",
    "@variable(m, u[1:k+1])\n",
    "@variable(m, t[1:n] >= 0)\n",
    "@constraint(m, y-A*u .<= t)\n",
    "@constraint(m, A*u-y .<= t)\n",
    "@objective(m, Min, 1/1000*sum(t))\n",
    "\n",
    "optimize!(m)\n",
    "uopt_l1 = value.(u)\n",
    "println(termination_status(m))\n",
    "println(objective_value(m))\n",
    "println(uopt_l1)"
   ]
  },
  {
   "cell_type": "code",
   "execution_count": 7,
   "metadata": {},
   "outputs": [
    {
     "name": "stdout",
     "output_type": "stream",
     "text": [
      "[0.002320865086925322, -0.08461679037336248, 0.9697320046438656, -3.351588258447633, 4.320673076923054]\n"
     ]
    },
    {
     "data": {
      "text/plain": [
       "0.01716439226601571"
      ]
     },
     "execution_count": 7,
     "metadata": {},
     "output_type": "execute_result"
    }
   ],
   "source": [
    "# Compute the LEAST SQUARES fit directly from normal equations\n",
    "\n",
    "uopt2=inv(A'*A)*(A'*y)\n",
    "println(uopt2)\n",
    "residual2=1/1000*sum((y-A*uopt2).^2)"
   ]
  },
  {
   "cell_type": "code",
   "execution_count": 8,
   "metadata": {},
   "outputs": [
    {
     "data": {
      "text/plain": [
       "5-element Vector{Float64}:\n",
       "  0.002320865086925428\n",
       " -0.08461679037336833\n",
       "  0.9697320046439526\n",
       " -3.3515882584477406\n",
       "  4.3206730769230495"
      ]
     },
     "execution_count": 8,
     "metadata": {},
     "output_type": "execute_result"
    }
   ],
   "source": [
    "# Compute the LEAST SQUARES fit from the backslash command\n",
    "\n",
    "uopt3=A\\y"
   ]
  },
  {
   "cell_type": "code",
   "execution_count": 9,
   "metadata": {},
   "outputs": [
    {
     "data": {
      "image/png": "[encoded data removed]",
      "text/plain": [
       "Figure(PyObject <Figure size 800x400 with 1 Axes>)"
      ]
     },
     "metadata": {},
     "output_type": "display_data"
    }
   ],
   "source": [
    "using PyPlot, LinearAlgebra\n",
    "npts = 100\n",
    "xfine = range(0,stop=16,length=npts)\n",
    "ffine = ones(npts)\n",
    "for j = 1:k\n",
    "    ffine = [ffine.*xfine ones(npts)]\n",
    "end\n",
    "yfine = ffine * uopt\n",
    "figure(figsize=(8,4))\n",
    "plot( x, y, \"r.\", markersize=10)\n",
    "plot( xfine, yfine, \"b-\")\n",
    "axis([0,16,-2,8])\n",
    "grid()"
   ]
  },
  {
   "cell_type": "code",
   "execution_count": 11,
   "metadata": {},
   "outputs": [
    {
     "name": "stderr",
     "output_type": "stream",
     "text": [
      "\u001b[32m\u001b[1m   Resolving\u001b[22m\u001b[39m package versions...\n",
      "\u001b[32m\u001b[1m  No Changes\u001b[22m\u001b[39m to `~/.julia/environments/v1.8/Project.toml`\n",
      "\u001b[32m\u001b[1m  No Changes\u001b[22m\u001b[39m to `~/.julia/environments/v1.8/Manifest.toml`\n",
      "\u001b[32m\u001b[1m   Resolving\u001b[22m\u001b[39m package versions...\n",
      "\u001b[32m\u001b[1m  No Changes\u001b[22m\u001b[39m to `~/.julia/environments/v1.8/Project.toml`\n",
      "\u001b[32m\u001b[1m  No Changes\u001b[22m\u001b[39m to `~/.julia/environments/v1.8/Manifest.toml`\n"
     ]
    }
   ],
   "source": [
    "Pkg.add(\"ECOS\")\n",
    "Pkg.add(\"SCS\")"
   ]
  },
  {
   "cell_type": "code",
   "execution_count": 9,
   "metadata": {},
   "outputs": [
    {
     "name": "stdout",
     "output_type": "stream",
     "text": [
      "OPTIMAL\n",
      "[0.002320865086925143, -0.08461679037335854, 0.9697320046438421, -3.3515882584472863, 4.320673076922571]\n"
     ]
    }
   ],
   "source": [
    "# NOTE: problem can be solved using ECOS or SCS if written as an \"SOCP\" --- more on this later!\n",
    "# Here is a working example:\n",
    "\n",
    "using JuMP, ECOS, SCS\n",
    "\n",
    "m = Model(optimizer_with_attributes(SCS.Optimizer, \"verbose\" =>0))\n",
    "\n",
    "@variable(m, u[1:k+1])\n",
    "@variable(m, t)\n",
    "@constraint(m, [t; y - A*u] in SecondOrderCone())\n",
    "@objective(m, Min, t)\n",
    "\n",
    "optimize!(m)\n",
    "uopt = value.(u)\n",
    "println(termination_status(m))\n",
    "println(uopt)"
   ]
  },
  {
   "cell_type": "code",
   "execution_count": null,
   "metadata": {},
   "outputs": [],
   "source": []
  }
 ],
 "metadata": {
  "@webio": {
   "lastCommId": null,
   "lastKernelId": null
  },
  "kernelspec": {
   "display_name": "Julia 1.8.5",
   "language": "julia",
   "name": "julia-1.8"
  },
  "language_info": {
   "file_extension": ".jl",
   "mimetype": "application/julia",
   "name": "julia",
   "version": "1.8.5"
  }
 },
 "nbformat": 4,
 "nbformat_minor": 1
}
