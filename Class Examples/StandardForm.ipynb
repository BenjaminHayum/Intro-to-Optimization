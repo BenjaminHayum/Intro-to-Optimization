{
 "cells": [
  {
   "cell_type": "markdown",
   "metadata": {},
   "source": [
    "# Standard Form conversion\n",
    "\n",
    "Convert the following linear program into standard form:\n",
    "\n",
    "$\\min p+q$ subject to\n",
    "\n",
    "$5p-3q=7$, $2p+q \\ge 2$, $1 \\le q \\le 4$."
   ]
  },
  {
   "cell_type": "markdown",
   "metadata": {},
   "source": [
    "### Original problem"
   ]
  },
  {
   "cell_type": "code",
   "execution_count": 4,
   "metadata": {
    "scrolled": true
   },
   "outputs": [
    {
     "name": "stdout",
     "output_type": "stream",
     "text": [
      "Running HiGHS 1.4.0 [date: 1970-01-01, git hash: bcf6c0b22]\n",
      "Copyright (c) 2022 ERGO-Code under MIT licence terms\n",
      "Presolving model\n",
      "0 rows, 0 cols, 0 nonzeros\n",
      "0 rows, 0 cols, 0 nonzeros\n",
      "Presolve : Reductions: rows 0(-2); columns 0(-2); elements 0(-4) - Reduced to empty\n",
      "Solving the original LP from the solution after postsolve\n",
      "Model   status      : Optimal\n",
      "Objective value     :  3.0000000000e+00\n",
      "HiGHS run time      :          0.00\n",
      "Min p + q\n",
      "Subject to\n",
      " 5 p - 3 q = 7.0\n",
      " 2 p + q ≥ 2.0\n",
      " q ≥ 1.0\n",
      " q ≤ 4.0\n",
      "\n",
      "p = 2.0\n",
      "q = 1.0\n",
      "objective = 3.0\n"
     ]
    }
   ],
   "source": [
    "using JuMP, HiGHS\n",
    "\n",
    "m = Model(HiGHS.Optimizer)\n",
    "@variable(m, p)\n",
    "@variable(m, 1 <= q <= 4 )\n",
    "@constraint(m, 5p - 3q == 7 )\n",
    "@constraint(m, 2p + q >= 2 )\n",
    "@objective(m, Min, p + q )\n",
    "\n",
    "optimize!(m)\n",
    "\n",
    "println(m)\n",
    "println(\"p = \", value(p) )\n",
    "println(\"q = \", value(q) )\n",
    "println(\"objective = \", objective_value(m) )"
   ]
  },
  {
   "cell_type": "markdown",
   "metadata": {},
   "source": [
    "### Standard form\n",
    "should look like:\n",
    "$$\\begin{aligned}\n",
    "\\text{maximize}\\qquad& c^T x\\\\\n",
    "\\text{subject to:}\\qquad& Ax \\le b\\\\\n",
    "& x \\ge 0\n",
    "\\end{aligned}$$"
   ]
  },
  {
   "cell_type": "code",
   "execution_count": 5,
   "metadata": {},
   "outputs": [
    {
     "name": "stdout",
     "output_type": "stream",
     "text": [
      "Max -u + v - w - 1\n",
      "Subject to\n",
      " w ≤ 3.0\n",
      " -5 u + 5 v + 3 w ≤ -10.0\n",
      " 5 u - 5 v - 3 w ≤ 10.0\n",
      " -2 u + 2 v - w ≤ -1.0\n",
      " u ≥ 0.0\n",
      " v ≥ 0.0\n",
      " w ≥ 0.0\n",
      "\n",
      "Running HiGHS 1.4.0 [date: 1970-01-01, git hash: bcf6c0b22]\n",
      "Copyright (c) 2022 ERGO-Code under MIT licence terms\n",
      "Presolving model\n",
      "3 rows, 3 cols, 9 nonzeros\n",
      "2 rows, 2 cols, 4 nonzeros\n",
      "0 rows, 0 cols, 0 nonzeros\n",
      "Presolve : Reductions: rows 0(-4); columns 0(-3); elements 0(-10) - Reduced to empty\n",
      "Solving the original LP from the solution after postsolve\n",
      "Model   status      : Optimal\n",
      "Objective value     : -3.0000000000e+00\n",
      "HiGHS run time      :          0.00\n",
      "OPTIMAL\n",
      "\n",
      "p = 2.0\n",
      "q = 1.0\n",
      "objective = 3.0\n"
     ]
    }
   ],
   "source": [
    "using JuMP, HiGHS\n",
    "\n",
    "m = Model(HiGHS.Optimizer)\n",
    "@variable(m, u >= 0 )\n",
    "@variable(m, v >= 0 )\n",
    "@variable(m, w >= 0 )\n",
    "@constraint(m, (w+1) <= 4 )\n",
    "@constraint(m, -5(u-v) + 3(w+1) <= -7 )\n",
    "@constraint(m, 5(u-v) - 3(w+1) <= 7 )\n",
    "@constraint(m, -2(u-v) - (w+1) <= -2 )\n",
    "@objective(m, Max, -(u-v) - (w+1) )\n",
    "println(m)\n",
    "\n",
    "optimize!(m)\n",
    "status= termination_status(m)\n",
    "\n",
    "println(status)\n",
    "println()\n",
    "println(\"p = \", value(u-v) )\n",
    "println(\"q = \", value(w+1) )\n",
    "println(\"objective = \", -objective_value(m) )"
   ]
  },
  {
   "cell_type": "markdown",
   "metadata": {},
   "source": [
    "### Standard form (compact)"
   ]
  },
  {
   "cell_type": "code",
   "execution_count": 6,
   "metadata": {},
   "outputs": [
    {
     "name": "stdout",
     "output_type": "stream",
     "text": [
      "Max -x[1] + x[2] - x[3]\n",
      "Subject to\n",
      " x[3] ≤ 3.0\n",
      " -5 x[1] + 5 x[2] + 3 x[3] ≤ -10.0\n",
      " 5 x[1] - 5 x[2] - 3 x[3] ≤ 10.0\n",
      " -2 x[1] + 2 x[2] - x[3] ≤ -1.0\n",
      " x[1] ≥ 0.0\n",
      " x[2] ≥ 0.0\n",
      " x[3] ≥ 0.0\n",
      "\n",
      "Running HiGHS 1.4.0 [date: 1970-01-01, git hash: bcf6c0b22]\n",
      "Copyright (c) 2022 ERGO-Code under MIT licence terms\n",
      "Presolving model\n",
      "3 rows, 3 cols, 9 nonzeros\n",
      "2 rows, 2 cols, 4 nonzeros\n",
      "0 rows, 0 cols, 0 nonzeros\n",
      "Presolve : Reductions: rows 0(-4); columns 0(-3); elements 0(-10) - Reduced to empty\n",
      "Solving the original LP from the solution after postsolve\n",
      "Model   status      : Optimal\n",
      "Objective value     : -2.0000000000e+00\n",
      "HiGHS run time      :          0.00\n",
      "terminated with status OPTIMAL\n",
      "\n",
      "p = 2.0\n",
      "q = 1.0\n",
      "objective = 3.0\n"
     ]
    }
   ],
   "source": [
    "# we defined the vector x to be: x = [u;  v;  w]\n",
    "A = [0 0 1; -5 5 3; 5 -5 -3; -2 2 -1]\n",
    "b = [3; -10; 10; -1]\n",
    "c = [-1; 1; -1]\n",
    "\n",
    "using JuMP, HiGHS, LinearAlgebra  # load LinearAlgebra so we can use dot()\n",
    "\n",
    "m = Model(HiGHS.Optimizer)\n",
    "@variable(m, x[1:3] >= 0 )      # specify a vector variable\n",
    "@constraint(m, A*x .<= b )      # the dot in front of <=, which indicates element-wise (vector) inequalities\n",
    "@objective(m, Max, dot(c,x) )   # must use dot(c,x) or (c'*x)[1] to return a scalar\n",
    "println(m)\n",
    "\n",
    "optimize!(m)\n",
    "status=termination_status(m)\n",
    "\n",
    "println(\"terminated with status \",status)\n",
    "println()\n",
    "println(\"p = \", value(x[1]-x[2]) )\n",
    "println(\"q = \", value(x[3]+1) )\n",
    "println(\"objective = \", -(objective_value(m)-1) )"
   ]
  },
  {
   "cell_type": "code",
   "execution_count": null,
   "metadata": {},
   "outputs": [],
   "source": []
  }
 ],
 "metadata": {
  "kernelspec": {
   "display_name": "Julia 1.8.5",
   "language": "julia",
   "name": "julia-1.8"
  },
  "language_info": {
   "file_extension": ".jl",
   "mimetype": "application/julia",
   "name": "julia",
   "version": "1.8.5"
  }
 },
 "nbformat": 4,
 "nbformat_minor": 1
}
