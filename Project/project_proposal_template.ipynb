{
 "cells": [
  {
   "cell_type": "markdown",
   "metadata": {},
   "source": [
    "### CS/ECE/ISyE 524 &mdash; Introduction to Optimization &mdash; Spring 2023 ###\n",
    "\n",
    "# Proposed project title goes here #\n",
    "\n",
    "#### Student 1: bhayum@wisc.edu\n"
   ]
  },
  {
   "cell_type": "markdown",
   "metadata": {},
   "source": [
    "#### Please insert your answers in the cells below. Use only Markdown notation, not Julia code"
   ]
  },
  {
   "cell_type": "markdown",
   "metadata": {},
   "source": [
    "### (A) Issue being addressed in this project"
   ]
  },
  {
   "cell_type": "markdown",
   "metadata": {},
   "source": [
    "The application of optimization that I'd like to explore is a version of the house planning problem that I can directly apply to my father's business. My Dad has been a residential home contractor for over 35 years. Over that time he has built an intuition for what processes need to happen in what order in order to build the home in the shortest amount of time. It will likely be hard to match this. However, I would love if using this project I can create a generalizeable model which he can use to figure out the optimal plans and schedules that makes his business operate faster.\n",
    "\n",
    "From working with him on the construction sites for several summers, I have some idea of what particular bottlenecks are the worst to deal with. I would like to figure out how to not only have a point estimate for how bad they may be but also build in some margin of error such that you can specify how much wiggle room you want to allow and given that find the optimal plan. *I could probably use some help thinking about structures to work this through.* \n",
    "\n",
    "An example of a particular bottleneck which can vary a lot is waiting for local government approval. This may take one day or a week or two. Finding a way to build in wiggle room here and still find the optimal plan seems very important.\n",
    "\n",
    "\n",
    "I would like to make the parameters that you have to enter very clear and easy to put in so that my 61 year old father can't get confused (although he probably still will and I'll have to run it for him every time). Perhaps if I made code that read the parameters through a csv spawned an excel sheet formatted in a particular way that would make this a lot easier for him."
   ]
  },
  {
   "cell_type": "markdown",
   "metadata": {},
   "source": [
    "### (B) What kind of data will you need, where will it come from, and how will you obtain it?"
   ]
  },
  {
   "cell_type": "markdown",
   "metadata": {},
   "source": [
    "I don't think I would need any particular data. I would more need to talk with my father and get broad bounds for how long each part of the building process takes that I can make examples out of and work off of. Perhaps I'll ask him about the actual process of his most recent project. Shouldn't be too difficult to parse, I imagine."
   ]
  },
  {
   "cell_type": "markdown",
   "metadata": {},
   "source": [
    "### (C) What is the optimization problem underlying this project? (LP, QP, SOCP, MIP, NLP, other?)"
   ]
  },
  {
   "cell_type": "markdown",
   "metadata": {},
   "source": [
    "This should just be a Linear Program which has a similar structure to House.ipynb or HW 3 Question 2. That is, unless building in the wiggle room and margin of error changes this, which is possible given how, for example, standard deviations may not be linear. Further exploration here is needed."
   ]
  },
  {
   "cell_type": "markdown",
   "metadata": {},
   "source": [
    "### (D) What will you deliver in terms of code, results, outcomes?"
   ]
  },
  {
   "cell_type": "markdown",
   "metadata": {},
   "source": [
    "The code I deliver will be a generalizeable model where you can specify the processes needed for a particular construction project, how long they usually take, and the wiggle room you'd like for each process specified on an excel sheet or csv that is then passed through the model and produces the optimal plan to execute building the home in the shortest amount of time.\n",
    "\n",
    "We will only know how effective the model truly is if we use it for a new home project. However, we can try to apply this model to past projects and see if the timeline it produces is in the ballpark of what the reality ended up being and hopefully is more efficient than the reality."
   ]
  },
  {
   "cell_type": "markdown",
   "metadata": {},
   "source": [
    "### (E) Other points to be considered."
   ]
  },
  {
   "cell_type": "markdown",
   "metadata": {},
   "source": [
    "Not much I can think of!"
   ]
  }
 ],
 "metadata": {
  "kernelspec": {
   "display_name": "Julia 1.8.5",
   "language": "julia",
   "name": "julia-1.8"
  },
  "language_info": {
   "file_extension": ".jl",
   "mimetype": "application/julia",
   "name": "julia",
   "version": "1.8.5"
  }
 },
 "nbformat": 4,
 "nbformat_minor": 1
}
